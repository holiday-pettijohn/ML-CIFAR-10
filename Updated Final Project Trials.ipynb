{
 "cells": [
  {
   "cell_type": "code",
   "execution_count": 1,
   "id": "bccb8327",
   "metadata": {},
   "outputs": [],
   "source": [
    "import tensorflow as tf\n",
    "import numpy as np\n",
    "import matplotlib.pyplot as plt\n",
    "from sklearn import (datasets, naive_bayes, neighbors, neural_network, model_selection, svm)"
   ]
  },
  {
   "cell_type": "markdown",
   "id": "9afd0653",
   "metadata": {},
   "source": [
    "### Loading Data"
   ]
  },
  {
   "cell_type": "code",
   "execution_count": 2,
   "id": "c90d8518",
   "metadata": {},
   "outputs": [],
   "source": [
    "filename = \"C:\\\\Users\\\\jakes\\\\x_train.txt\"\n",
    "S_in = np.loadtxt(filename, delimiter=',')\n",
    "temp = S_in\n",
    "\n",
    "filename = \"C:\\\\Users\\\\jakes\\\\y_train.txt\"\n",
    "S_inY = np.loadtxt(filename, delimiter=',')\n",
    "tempY = S_inY\n",
    "\n",
    "filename = \"C:\\\\Users\\\\jakes\\\\S_val.txt\"\n",
    "S_val = np.loadtxt(filename, delimiter=',')\n",
    "tempV = S_val\n",
    "\n",
    "filename = \"C:\\\\Users\\\\jakes\\\\S_valY.txt\"\n",
    "S_valY = np.loadtxt(filename, delimiter=',')\n",
    "tempVY = S_valY"
   ]
  },
  {
   "cell_type": "markdown",
   "id": "7d6d8044",
   "metadata": {},
   "source": [
    "### Normalizing"
   ]
  },
  {
   "cell_type": "code",
   "execution_count": 3,
   "id": "f46949fe",
   "metadata": {},
   "outputs": [],
   "source": [
    "[N,dim]=np.shape(S_in)\n",
    "\n",
    "S_in = temp\n",
    "S_inY = tempY\n",
    "\n",
    "S_val = tempV\n",
    "S_valY = tempVY\n",
    "\n",
    "for i in range(dim):\n",
    "    mean = np.mean(S_in[:,i])\n",
    "    S_in[:,i] = S_in[:,i] - mean\n",
    "    \n",
    "    std = np.std(S_in[:,i])\n",
    "    S_in[:,i] = S_in[:,i] / std\n",
    "\n",
    "    S_val[:,i] = S_val[:,i] - mean\n",
    "    S_val[:,i] = S_val[:,i] / std\n",
    "    \n",
    "    \n",
    "#Reshaping data\n",
    "\n",
    "S_trainR = S_in\n",
    "S_valR = S_val\n",
    "\n",
    "S_trainR = np.reshape(S_in, (len(S_in), 32,32,3))\n",
    "S_valR = np.reshape(S_val, (len(S_val), 32,32,3))"
   ]
  },
  {
   "cell_type": "markdown",
   "id": "6e9c91b4",
   "metadata": {},
   "source": [
    "### Original 1e-10 Model"
   ]
  },
  {
   "cell_type": "code",
   "execution_count": 4,
   "id": "5f99f8f8",
   "metadata": {},
   "outputs": [
    {
     "name": "stdout",
     "output_type": "stream",
     "text": [
      "Epoch 1/20\n",
      "1563/1563 [==============================] - 19s 12ms/step - loss: 1.3898 - accuracy: 0.5026 - val_loss: 1.0045 - val_accuracy: 0.6472\n",
      "Epoch 2/20\n",
      "1563/1563 [==============================] - 18s 12ms/step - loss: 0.9924 - accuracy: 0.6525 - val_loss: 0.8537 - val_accuracy: 0.6985\n",
      "Epoch 3/20\n",
      "1563/1563 [==============================] - 19s 12ms/step - loss: 0.8224 - accuracy: 0.7129 - val_loss: 0.6829 - val_accuracy: 0.7617\n",
      "Epoch 4/20\n",
      "1563/1563 [==============================] - 18s 12ms/step - loss: 0.7069 - accuracy: 0.7521 - val_loss: 0.6052 - val_accuracy: 0.7885\n",
      "Epoch 5/20\n",
      "1563/1563 [==============================] - 19s 12ms/step - loss: 0.6249 - accuracy: 0.7824 - val_loss: 0.5285 - val_accuracy: 0.8157\n",
      "Epoch 6/20\n",
      "1563/1563 [==============================] - 20s 13ms/step - loss: 0.5601 - accuracy: 0.8021 - val_loss: 0.4736 - val_accuracy: 0.8399\n",
      "Epoch 7/20\n",
      "1563/1563 [==============================] - 19s 12ms/step - loss: 0.4968 - accuracy: 0.8258 - val_loss: 0.4102 - val_accuracy: 0.8582\n",
      "Epoch 8/20\n",
      "1563/1563 [==============================] - 19s 12ms/step - loss: 0.4459 - accuracy: 0.8418 - val_loss: 0.3964 - val_accuracy: 0.8625\n",
      "Epoch 9/20\n",
      "1563/1563 [==============================] - 19s 12ms/step - loss: 0.3988 - accuracy: 0.8585 - val_loss: 0.3163 - val_accuracy: 0.8901\n",
      "Epoch 10/20\n",
      "1563/1563 [==============================] - 20s 13ms/step - loss: 0.3602 - accuracy: 0.8720 - val_loss: 0.2803 - val_accuracy: 0.9034\n",
      "Epoch 11/20\n",
      "1563/1563 [==============================] - 20s 13ms/step - loss: 0.3281 - accuracy: 0.8829 - val_loss: 0.2491 - val_accuracy: 0.9162\n",
      "Epoch 12/20\n",
      "1563/1563 [==============================] - 20s 12ms/step - loss: 0.2925 - accuracy: 0.8966 - val_loss: 0.2110 - val_accuracy: 0.9292\n",
      "Epoch 13/20\n",
      "1563/1563 [==============================] - 19s 12ms/step - loss: 0.2673 - accuracy: 0.9054 - val_loss: 0.2059 - val_accuracy: 0.9274\n",
      "Epoch 14/20\n",
      "1563/1563 [==============================] - 19s 12ms/step - loss: 0.2401 - accuracy: 0.9141 - val_loss: 0.1618 - val_accuracy: 0.9458\n",
      "Epoch 15/20\n",
      "1563/1563 [==============================] - 19s 12ms/step - loss: 0.2228 - accuracy: 0.9226 - val_loss: 0.1747 - val_accuracy: 0.9395\n",
      "Epoch 16/20\n",
      "1563/1563 [==============================] - 19s 12ms/step - loss: 0.2097 - accuracy: 0.9254 - val_loss: 0.1481 - val_accuracy: 0.9475\n",
      "Epoch 17/20\n",
      "1563/1563 [==============================] - 19s 12ms/step - loss: 0.1928 - accuracy: 0.9325 - val_loss: 0.1420 - val_accuracy: 0.9518\n",
      "Epoch 18/20\n",
      "1563/1563 [==============================] - 19s 12ms/step - loss: 0.1864 - accuracy: 0.9350 - val_loss: 0.1080 - val_accuracy: 0.9655\n",
      "Epoch 19/20\n",
      "1563/1563 [==============================] - 20s 13ms/step - loss: 0.1719 - accuracy: 0.9401 - val_loss: 0.1294 - val_accuracy: 0.9584\n",
      "Epoch 20/20\n",
      "1563/1563 [==============================] - 20s 13ms/step - loss: 0.1640 - accuracy: 0.9427 - val_loss: 0.1455 - val_accuracy: 0.9509\n"
     ]
    }
   ],
   "source": [
    "model1 = tf.keras.Sequential([\n",
    "    tf.keras.layers.Conv2D(32, (3, 3), activation='relu', input_shape=(32, 32, 3), kernel_regularizer=tf.keras.regularizers.L1(l1=1e-10)),\n",
    "    tf.keras.layers.MaxPooling2D((2, 2)),\n",
    "    tf.keras.layers.Conv2D(64, (3, 3), activation='relu', kernel_regularizer=tf.keras.regularizers.L1(l1=1e-10)),\n",
    "    tf.keras.layers.MaxPooling2D((2, 2)),\n",
    "    tf.keras.layers.Conv2D(128, (3, 3), activation='relu', kernel_regularizer=tf.keras.regularizers.L1(l1=1e-10)),\n",
    "    tf.keras.layers.MaxPooling2D(2, 2),\n",
    "    tf.keras.layers.Flatten(),\n",
    "    tf.keras.layers.Dense(128, activation='relu', kernel_regularizer=tf.keras.regularizers.L1(l1=1e-10)),\n",
    "    tf.keras.layers.Dense(64, activation='relu', kernel_regularizer=tf.keras.regularizers.L1(l1=1e-10)),\n",
    "    tf.keras.layers.Dense(10),\n",
    "])\n",
    "\n",
    "model1.compile(optimizer='adam',\n",
    "              loss=tf.keras.losses.SparseCategoricalCrossentropy(from_logits=True),\n",
    "              metrics=['accuracy'])\n",
    "\n",
    "history = model1.fit(S_trainR, S_inY, epochs=20,\n",
    "                   validation_data=(S_valR, S_valY))\n",
    "\n",
    "model1acc = history.history['accuracy']\n",
    "model1valAcc = history.history['val_accuracy']\n",
    "model1valLoss = history.history['val_loss']\n",
    "\n",
    "#model1i.save('CNN_Model')"
   ]
  },
  {
   "cell_type": "markdown",
   "id": "98c96502",
   "metadata": {},
   "source": [
    "### 1e-10 Model, Increasing number on Conv2d and Adding Dense Layer"
   ]
  },
  {
   "cell_type": "code",
   "execution_count": 5,
   "id": "acdfdcab",
   "metadata": {},
   "outputs": [
    {
     "name": "stdout",
     "output_type": "stream",
     "text": [
      "Epoch 1/20\n",
      "1563/1563 [==============================] - 48s 30ms/step - loss: 1.4114 - accuracy: 0.4889 - val_loss: 1.0599 - val_accuracy: 0.6233\n",
      "Epoch 2/20\n",
      "1563/1563 [==============================] - 48s 31ms/step - loss: 0.9752 - accuracy: 0.6588 - val_loss: 0.8109 - val_accuracy: 0.7158\n",
      "Epoch 3/20\n",
      "1563/1563 [==============================] - 48s 30ms/step - loss: 0.8010 - accuracy: 0.7213 - val_loss: 0.7078 - val_accuracy: 0.7574\n",
      "Epoch 4/20\n",
      "1563/1563 [==============================] - 48s 30ms/step - loss: 0.6821 - accuracy: 0.7622 - val_loss: 0.5364 - val_accuracy: 0.8162\n",
      "Epoch 5/20\n",
      "1563/1563 [==============================] - 48s 31ms/step - loss: 0.5889 - accuracy: 0.7953 - val_loss: 0.4897 - val_accuracy: 0.8327\n",
      "Epoch 6/20\n",
      "1563/1563 [==============================] - 48s 31ms/step - loss: 0.5164 - accuracy: 0.8199 - val_loss: 0.4514 - val_accuracy: 0.8443\n",
      "Epoch 7/20\n",
      "1563/1563 [==============================] - 48s 31ms/step - loss: 0.4554 - accuracy: 0.8425 - val_loss: 0.3336 - val_accuracy: 0.8879\n",
      "Epoch 8/20\n",
      "1563/1563 [==============================] - 48s 31ms/step - loss: 0.4011 - accuracy: 0.8606 - val_loss: 0.3534 - val_accuracy: 0.8790\n",
      "Epoch 9/20\n",
      "1563/1563 [==============================] - 48s 31ms/step - loss: 0.3561 - accuracy: 0.8778 - val_loss: 0.2834 - val_accuracy: 0.9029\n",
      "Epoch 10/20\n",
      "1563/1563 [==============================] - 48s 31ms/step - loss: 0.3131 - accuracy: 0.8902 - val_loss: 0.2372 - val_accuracy: 0.9237\n",
      "Epoch 11/20\n",
      "1563/1563 [==============================] - 48s 30ms/step - loss: 0.2818 - accuracy: 0.9019 - val_loss: 0.2085 - val_accuracy: 0.9257\n",
      "Epoch 12/20\n",
      "1563/1563 [==============================] - 48s 31ms/step - loss: 0.2482 - accuracy: 0.9121 - val_loss: 0.2039 - val_accuracy: 0.9286\n",
      "Epoch 13/20\n",
      "1563/1563 [==============================] - 49s 32ms/step - loss: 0.2266 - accuracy: 0.9214 - val_loss: 0.1684 - val_accuracy: 0.9430\n",
      "Epoch 14/20\n",
      "1563/1563 [==============================] - 49s 31ms/step - loss: 0.2040 - accuracy: 0.9311 - val_loss: 0.1564 - val_accuracy: 0.9466\n",
      "Epoch 15/20\n",
      "1563/1563 [==============================] - 49s 31ms/step - loss: 0.1920 - accuracy: 0.9332 - val_loss: 0.1694 - val_accuracy: 0.9417\n",
      "Epoch 16/20\n",
      "1563/1563 [==============================] - 49s 31ms/step - loss: 0.1785 - accuracy: 0.9391 - val_loss: 0.1250 - val_accuracy: 0.9583\n",
      "Epoch 17/20\n",
      "1563/1563 [==============================] - 49s 31ms/step - loss: 0.1658 - accuracy: 0.9437 - val_loss: 0.1299 - val_accuracy: 0.9548\n",
      "Epoch 18/20\n",
      "1563/1563 [==============================] - 48s 31ms/step - loss: 0.1500 - accuracy: 0.9495 - val_loss: 0.1065 - val_accuracy: 0.9666\n",
      "Epoch 19/20\n",
      "1563/1563 [==============================] - 49s 31ms/step - loss: 0.1441 - accuracy: 0.9509 - val_loss: 0.1257 - val_accuracy: 0.9597\n",
      "Epoch 20/20\n",
      "1563/1563 [==============================] - 49s 31ms/step - loss: 0.1358 - accuracy: 0.9548 - val_loss: 0.0989 - val_accuracy: 0.9656\n"
     ]
    }
   ],
   "source": [
    "model1a = tf.keras.Sequential([\n",
    "    tf.keras.layers.Conv2D(64, (3, 3), activation='relu', input_shape=(32, 32, 3), kernel_regularizer=tf.keras.regularizers.L1(l1=1e-10)),\n",
    "    tf.keras.layers.MaxPooling2D((2, 2)),\n",
    "    tf.keras.layers.Conv2D(128, (3, 3), activation='relu', kernel_regularizer=tf.keras.regularizers.L1(l1=1e-10)),\n",
    "    tf.keras.layers.MaxPooling2D((2, 2)),\n",
    "    tf.keras.layers.Conv2D(192, (3, 3), activation='relu', kernel_regularizer=tf.keras.regularizers.L1(l1=1e-10)),\n",
    "    tf.keras.layers.MaxPooling2D(2, 2),\n",
    "    tf.keras.layers.Flatten(),\n",
    "    tf.keras.layers.Dense(128, activation='relu', kernel_regularizer=tf.keras.regularizers.L1(l1=1e-10)),\n",
    "    tf.keras.layers.Dense(64, activation='relu', kernel_regularizer=tf.keras.regularizers.L1(l1=1e-10)),\n",
    "    tf.keras.layers.Dense(32, activation='relu', kernel_regularizer=tf.keras.regularizers.L1(l1=1e-10)),\n",
    "    tf.keras.layers.Dense(10),\n",
    "])\n",
    "\n",
    "model1a.compile(optimizer='adam',\n",
    "              loss=tf.keras.losses.SparseCategoricalCrossentropy(from_logits=True),\n",
    "              metrics=['accuracy'])\n",
    "\n",
    "history = model1a.fit(S_trainR, S_inY, epochs=20,\n",
    "                   validation_data=(S_valR, S_valY))\n",
    "\n",
    "model1aacc = history.history['accuracy']\n",
    "model1avalAcc = history.history['val_accuracy']\n",
    "model1avalLoss = history.history['val_loss']\n",
    "\n",
    "\n",
    "#model1i.save('CNN_Model')"
   ]
  },
  {
   "cell_type": "code",
   "execution_count": null,
   "id": "35fb685f",
   "metadata": {},
   "outputs": [],
   "source": []
  },
  {
   "cell_type": "markdown",
   "id": "9a214099",
   "metadata": {},
   "source": [
    "### Graphing Val Accuracy"
   ]
  },
  {
   "cell_type": "code",
   "execution_count": 7,
   "id": "7f16394d",
   "metadata": {},
   "outputs": [
    {
     "data": {
      "text/plain": [
       "<matplotlib.legend.Legend at 0x25604159e48>"
      ]
     },
     "execution_count": 7,
     "metadata": {},
     "output_type": "execute_result"
    },
    {
     "data": {
      "image/png": "[encoded data removed]",
      "text/plain": [
       "<Figure size 640x480 with 1 Axes>"
      ]
     },
     "metadata": {},
     "output_type": "display_data"
    }
   ],
   "source": [
    "f, ax=plt.subplots()\n",
    "ax.title.set_text(\"Lambda Val Accuracy with Model 1\")\n",
    "ax.plot(model1valAcc, label=\"1e-10\", color='b')\n",
    "ax.plot(model1avalAcc, label=\"1e-9\", color='r')\n",
    "#ax.plot(model1bvalAcc, label=\"1e-8\", color='y')\n",
    "#ax.plot(model1cvalAcc, label=\"1e-7\", color='c')\n",
    "#ax.plot(model1dvalAcc, label=\"1e-6\", color='m')\n",
    "ax.set_xlabel(\"$epochs$\")\n",
    "ax.legend(fontsize=12)"
   ]
  },
  {
   "cell_type": "markdown",
   "id": "29ac013b",
   "metadata": {},
   "source": [
    "# SVMs"
   ]
  },
  {
   "cell_type": "markdown",
   "id": "b30a06b2",
   "metadata": {},
   "source": [
    "### Original model for comparison (gamma = scale)"
   ]
  },
  {
   "cell_type": "code",
   "execution_count": 8,
   "id": "7e0c1346",
   "metadata": {},
   "outputs": [
    {
     "name": "stdout",
     "output_type": "stream",
     "text": [
      "Eout         : 67.9 %\n",
      "SV  estimate : 100.0 %\n",
      "Number of support vectors: 50000\n"
     ]
    }
   ],
   "source": [
    "clf=svm.SVC(kernel='rbf', C=10e-13)\n",
    "clf.fit(S_in, S_inY)\n",
    "gtest=clf.predict(S_val)\n",
    "sv=clf.support_vectors_\n",
    "\n",
    "tt=np.linspace(-2,2)\n",
    "\n",
    "q=3\n",
    "Ytt=3.7*(tt+2)**q/(1+(tt+2)**q)-2\n",
    "\n",
    "[SVs, _] = sv.shape;\n",
    "Eout=np.mean(S_valY!=gtest)\n",
    "print(\"Eout         : %.1f\"% (Eout*100), \"%\")\n",
    "print(\"SV  estimate : %.1f\"%(np.sum(clf.n_support_)*100/(N-1)), \"%\")\n",
    "print(\"Number of support vectors:\", SVs)"
   ]
  },
  {
   "cell_type": "markdown",
   "id": "5091929f",
   "metadata": {},
   "source": [
    "### Same as original but with auto gamma"
   ]
  },
  {
   "cell_type": "code",
   "execution_count": 9,
   "id": "382b5cb7",
   "metadata": {},
   "outputs": [
    {
     "name": "stdout",
     "output_type": "stream",
     "text": [
      "Eout         : 67.9 %\n",
      "SV  estimate : 100.0 %\n",
      "Number of support vectors: 50000\n"
     ]
    }
   ],
   "source": [
    "clf=svm.SVC(kernel='rbf', C=10e-13, gamma = 'auto')\n",
    "clf.fit(S_in, S_inY)\n",
    "gtest=clf.predict(S_val)\n",
    "sv=clf.support_vectors_\n",
    "\n",
    "tt=np.linspace(-2,2)\n",
    "\n",
    "q=3\n",
    "Ytt=3.7*(tt+2)**q/(1+(tt+2)**q)-2\n",
    "\n",
    "[SVs, _] = sv.shape;\n",
    "Eout=np.mean(S_valY!=gtest)\n",
    "print(\"Eout         : %.1f\"% (Eout*100), \"%\")\n",
    "print(\"SV  estimate : %.1f\"%(np.sum(clf.n_support_)*100/(N-1)), \"%\")\n",
    "print(\"Number of support vectors:\", SVs)"
   ]
  },
  {
   "cell_type": "markdown",
   "id": "4bf2fc25",
   "metadata": {},
   "source": [
    "### Same as original but with gamma = 1"
   ]
  },
  {
   "cell_type": "code",
   "execution_count": 10,
   "id": "affe57f9",
   "metadata": {},
   "outputs": [
    {
     "name": "stdout",
     "output_type": "stream",
     "text": [
      "Eout         : 0.0 %\n",
      "SV  estimate : 100.0 %\n",
      "Number of support vectors: 50000\n"
     ]
    }
   ],
   "source": [
    "clf=svm.SVC(kernel='rbf', C=10e-13, gamma = 1)\n",
    "clf.fit(S_in, S_inY)\n",
    "gtest=clf.predict(S_val)\n",
    "sv=clf.support_vectors_\n",
    "\n",
    "tt=np.linspace(-2,2)\n",
    "\n",
    "q=3\n",
    "Ytt=3.7*(tt+2)**q/(1+(tt+2)**q)-2\n",
    "\n",
    "[SVs, _] = sv.shape;\n",
    "Eout=np.mean(S_valY!=gtest)\n",
    "print(\"Eout         : %.1f\"% (Eout*100), \"%\")\n",
    "print(\"SV  estimate : %.1f\"%(np.sum(clf.n_support_)*100/(N-1)), \"%\")\n",
    "print(\"Number of support vectors:\", SVs)"
   ]
  },
  {
   "cell_type": "code",
   "execution_count": 11,
   "id": "d5a4df0c",
   "metadata": {},
   "outputs": [
    {
     "name": "stdout",
     "output_type": "stream",
     "text": [
      "Eout         : 0.0 %\n",
      "SV  estimate : 100.0 %\n",
      "Number of support vectors: 50000\n"
     ]
    }
   ],
   "source": [
    "clf=svm.SVC(kernel='rbf', C=10e-9, gamma = 5)\n",
    "clf.fit(S_in, S_inY)\n",
    "gtest=clf.predict(S_val)\n",
    "sv=clf.support_vectors_\n",
    "\n",
    "tt=np.linspace(-2,2)\n",
    "\n",
    "q=3\n",
    "Ytt=3.7*(tt+2)**q/(1+(tt+2)**q)-2\n",
    "\n",
    "[SVs, _] = sv.shape;\n",
    "Eout=np.mean(S_valY!=gtest)\n",
    "print(\"Eout         : %.1f\"% (Eout*100), \"%\")\n",
    "print(\"SV  estimate : %.1f\"%(np.sum(clf.n_support_)*100/(N-1)), \"%\")\n",
    "print(\"Number of support vectors:\", SVs)"
   ]
  },
  {
   "cell_type": "code",
   "execution_count": 12,
   "id": "eddbaf8c",
   "metadata": {},
   "outputs": [
    {
     "name": "stdout",
     "output_type": "stream",
     "text": [
      "Eout         : 0.0 %\n",
      "SV  estimate : 100.0 %\n",
      "Number of support vectors: 50000\n"
     ]
    }
   ],
   "source": [
    "clf=svm.SVC(kernel='rbf', C=10e-9, gamma = 7.5)\n",
    "clf.fit(S_in, S_inY)\n",
    "gtest=clf.predict(S_val)\n",
    "sv=clf.support_vectors_\n",
    "\n",
    "tt=np.linspace(-2,2)\n",
    "\n",
    "q=3\n",
    "Ytt=3.7*(tt+2)**q/(1+(tt+2)**q)-2\n",
    "\n",
    "[SVs, _] = sv.shape;\n",
    "Eout=np.mean(S_valY!=gtest)\n",
    "print(\"Eout         : %.1f\"% (Eout*100), \"%\")\n",
    "print(\"SV  estimate : %.1f\"%(np.sum(clf.n_support_)*100/(N-1)), \"%\")\n",
    "print(\"Number of support vectors:\", SVs)"
   ]
  },
  {
   "cell_type": "code",
   "execution_count": 13,
   "id": "00a2039e",
   "metadata": {},
   "outputs": [
    {
     "name": "stdout",
     "output_type": "stream",
     "text": [
      "Eout         : 27.8 %\n",
      "SV  estimate : 88.8 %\n",
      "Number of support vectors: 44387\n"
     ]
    }
   ],
   "source": [
    "clf=svm.SVC(kernel='rbf', C=1, gamma = 'auto')\n",
    "clf.fit(S_in, S_inY)\n",
    "gtest=clf.predict(S_val)\n",
    "sv=clf.support_vectors_\n",
    "\n",
    "tt=np.linspace(-2,2)\n",
    "\n",
    "q=3\n",
    "Ytt=3.7*(tt+2)**q/(1+(tt+2)**q)-2\n",
    "\n",
    "[SVs, _] = sv.shape;\n",
    "Eout=np.mean(S_valY!=gtest)\n",
    "print(\"Eout         : %.1f\"% (Eout*100), \"%\")\n",
    "print(\"SV  estimate : %.1f\"%(np.sum(clf.n_support_)*100/(N-1)), \"%\")\n",
    "print(\"Number of support vectors:\", SVs)"
   ]
  },
  {
   "cell_type": "code",
   "execution_count": null,
   "id": "8c54df2d",
   "metadata": {},
   "outputs": [],
   "source": []
  }
 ],
 "metadata": {
  "kernelspec": {
   "display_name": "Python 3 (ipykernel)",
   "language": "python",
   "name": "python3"
  },
  "language_info": {
   "codemirror_mode": {
    "name": "ipython",
    "version": 3
   },
   "file_extension": ".py",
   "mimetype": "text/x-python",
   "name": "python",
   "nbconvert_exporter": "python",
   "pygments_lexer": "ipython3",
   "version": "3.7.13"
  }
 },
 "nbformat": 4,
 "nbformat_minor": 5
}
