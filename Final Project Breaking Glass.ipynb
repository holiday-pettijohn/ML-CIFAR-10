{
 "cells": [
  {
   "cell_type": "code",
   "execution_count": 26,
   "id": "f0c96b9c",
   "metadata": {},
   "outputs": [],
   "source": [
    "import tensorflow as tf\n",
    "import numpy as np\n",
    "import matplotlib.pyplot as plt\n",
    "from sklearn import (datasets, naive_bayes, neighbors, neural_network, model_selection, svm)"
   ]
  },
  {
   "cell_type": "code",
   "execution_count": 27,
   "id": "069fdcc0",
   "metadata": {},
   "outputs": [],
   "source": [
    "filename = \"C:\\\\Users\\\\jakes\\\\x_train.txt\"\n",
    "S_in = np.loadtxt(filename, delimiter=',')\n",
    "temp = S_in\n",
    "\n",
    "filename = \"C:\\\\Users\\\\jakes\\\\y_train.txt\"\n",
    "S_inY = np.loadtxt(filename, delimiter=',')\n",
    "tempY = S_inY\n",
    "\n",
    "filename = \"C:\\\\Users\\\\jakes\\\\x_test.txt\"\n",
    "S_out = np.loadtxt(filename, delimiter=',')\n",
    "tempO = S_out\n",
    "\n",
    "filename = \"C:\\\\Users\\\\jakes\\\\y_test.txt\"\n",
    "S_outY = np.loadtxt(filename, delimiter=',')\n",
    "tempOY = S_outY"
   ]
  },
  {
   "cell_type": "markdown",
   "id": "37f4a224",
   "metadata": {},
   "source": [
    "### Normalizing"
   ]
  },
  {
   "cell_type": "code",
   "execution_count": 28,
   "id": "c3316ab8",
   "metadata": {},
   "outputs": [],
   "source": [
    "[N,dim]=np.shape(S_in)\n",
    "\n",
    "S_in = temp\n",
    "S_inY = tempY\n",
    "\n",
    "S_out = tempO\n",
    "S_outY = tempOY\n",
    "\n",
    "for i in range(dim):\n",
    "    mean = np.mean(S_in[:,i])\n",
    "    S_in[:,i] = S_in[:,i] - mean\n",
    "    \n",
    "    std = np.std(S_in[:,i])\n",
    "    S_in[:,i] = S_in[:,i] / std\n",
    "\n",
    "    S_out[:,i] = S_out[:,i] - mean\n",
    "    S_out[:,i] = S_out[:,i] / std\n",
    "    \n",
    "    \n",
    "#Reshaping data\n",
    "\n",
    "S_inR = S_in\n",
    "S_outR = S_out\n",
    "\n",
    "S_inR = np.reshape(S_in, (len(S_in), 32,32,3))\n",
    "S_outR = np.reshape(S_out, (len(S_out), 32,32,3))"
   ]
  },
  {
   "cell_type": "markdown",
   "id": "5f77d4ba",
   "metadata": {},
   "source": [
    "# Using first SVM model"
   ]
  },
  {
   "cell_type": "code",
   "execution_count": 29,
   "id": "7bc94eb9",
   "metadata": {},
   "outputs": [
    {
     "name": "stdout",
     "output_type": "stream",
     "text": [
      "Eout         : 45.2 %\n",
      "SV  estimate : 88.8 %\n",
      "Number of support vectors: 44387\n"
     ]
    }
   ],
   "source": [
    "clf=svm.SVC(kernel='rbf', C=1)\n",
    "clf.fit(S_in, S_inY)\n",
    "gtest=clf.predict(S_out)\n",
    "sv=clf.support_vectors_\n",
    "\n",
    "tt=np.linspace(-2,2)\n",
    "\n",
    "q=3\n",
    "Ytt=3.7*(tt+2)**q/(1+(tt+2)**q)-2\n",
    "\n",
    "[SVs, _] = sv.shape;\n",
    "Eout=np.mean(S_outY!=gtest)\n",
    "print(\"Eout         : %.1f\"% (Eout*100), \"%\")\n",
    "print(\"SV  estimate : %.1f\"%(np.sum(clf.n_support_)*100/(N-1)), \"%\")\n",
    "print(\"Number of support vectors:\", SVs)"
   ]
  },
  {
   "cell_type": "code",
   "execution_count": null,
   "id": "b77edf7b",
   "metadata": {},
   "outputs": [],
   "source": [
    "import pickle\n",
    "\n",
    "with open('FinalSVMModel', 'wb') as f:\n",
    "    # Pickle the 'data' dictionary using the highest protocol available.\n",
    "    pickle.dump(clf, f, pickle.HIGHEST_PROTOCOL)"
   ]
  },
  {
   "cell_type": "markdown",
   "id": "27b20d14",
   "metadata": {},
   "source": [
    "# CNNs"
   ]
  },
  {
   "cell_type": "markdown",
   "id": "63c03b9c",
   "metadata": {},
   "source": [
    "### 10e-7"
   ]
  },
  {
   "cell_type": "code",
   "execution_count": 5,
   "id": "1e0de4f4",
   "metadata": {},
   "outputs": [
    {
     "name": "stdout",
     "output_type": "stream",
     "text": [
      "Epoch 1/20\n",
      "1563/1563 [==============================] - 22s 13ms/step - loss: 1.3944 - accuracy: 0.4949 - val_loss: 1.1250 - val_accuracy: 0.6091\n",
      "Epoch 2/20\n",
      "1563/1563 [==============================] - 20s 13ms/step - loss: 0.9951 - accuracy: 0.6513 - val_loss: 0.9458 - val_accuracy: 0.6715\n",
      "Epoch 3/20\n",
      "1563/1563 [==============================] - 21s 14ms/step - loss: 0.8350 - accuracy: 0.7082 - val_loss: 0.8897 - val_accuracy: 0.6936\n",
      "Epoch 4/20\n",
      "1563/1563 [==============================] - 19s 12ms/step - loss: 0.7270 - accuracy: 0.7454 - val_loss: 0.8593 - val_accuracy: 0.7111\n",
      "Epoch 5/20\n",
      "1563/1563 [==============================] - 18s 12ms/step - loss: 0.6446 - accuracy: 0.7763 - val_loss: 0.8432 - val_accuracy: 0.7222\n",
      "Epoch 6/20\n",
      "1563/1563 [==============================] - 20s 13ms/step - loss: 0.5794 - accuracy: 0.8000 - val_loss: 0.8288 - val_accuracy: 0.7271\n",
      "Epoch 7/20\n",
      "1563/1563 [==============================] - 19s 12ms/step - loss: 0.5201 - accuracy: 0.8173 - val_loss: 0.8400 - val_accuracy: 0.7309\n",
      "Epoch 8/20\n",
      "1563/1563 [==============================] - 19s 12ms/step - loss: 0.4666 - accuracy: 0.8358 - val_loss: 0.8763 - val_accuracy: 0.7298\n",
      "Epoch 9/20\n",
      "1563/1563 [==============================] - 19s 12ms/step - loss: 0.4212 - accuracy: 0.8515 - val_loss: 0.8964 - val_accuracy: 0.7284\n",
      "Epoch 10/20\n",
      "1563/1563 [==============================] - 22s 14ms/step - loss: 0.3808 - accuracy: 0.8664 - val_loss: 0.9812 - val_accuracy: 0.7226\n",
      "Epoch 11/20\n",
      "1563/1563 [==============================] - 20s 13ms/step - loss: 0.3433 - accuracy: 0.8789 - val_loss: 0.9573 - val_accuracy: 0.7279\n",
      "Epoch 12/20\n",
      "1563/1563 [==============================] - 22s 14ms/step - loss: 0.3111 - accuracy: 0.8907 - val_loss: 1.1041 - val_accuracy: 0.7076\n",
      "Epoch 13/20\n",
      "1563/1563 [==============================] - 19s 12ms/step - loss: 0.2869 - accuracy: 0.8995 - val_loss: 1.1198 - val_accuracy: 0.7220\n",
      "Epoch 14/20\n",
      "1563/1563 [==============================] - 19s 12ms/step - loss: 0.2640 - accuracy: 0.9069 - val_loss: 1.1301 - val_accuracy: 0.7324\n",
      "Epoch 15/20\n",
      "1563/1563 [==============================] - 20s 13ms/step - loss: 0.2411 - accuracy: 0.9158 - val_loss: 1.2394 - val_accuracy: 0.7118\n",
      "Epoch 16/20\n",
      "1563/1563 [==============================] - 19s 12ms/step - loss: 0.2213 - accuracy: 0.9225 - val_loss: 1.2331 - val_accuracy: 0.7208\n",
      "Epoch 17/20\n",
      "1563/1563 [==============================] - 19s 12ms/step - loss: 0.2040 - accuracy: 0.9288 - val_loss: 1.3497 - val_accuracy: 0.7123\n",
      "Epoch 18/20\n",
      "1563/1563 [==============================] - 19s 12ms/step - loss: 0.1972 - accuracy: 0.9318 - val_loss: 1.3799 - val_accuracy: 0.7108\n",
      "Epoch 19/20\n",
      "1563/1563 [==============================] - 20s 13ms/step - loss: 0.1871 - accuracy: 0.9348 - val_loss: 1.4512 - val_accuracy: 0.7043\n",
      "Epoch 20/20\n",
      "1563/1563 [==============================] - 19s 12ms/step - loss: 0.1771 - accuracy: 0.9378 - val_loss: 1.4618 - val_accuracy: 0.7154\n"
     ]
    },
    {
     "name": "stderr",
     "output_type": "stream",
     "text": [
      "WARNING:absl:Found untraced functions such as _jit_compiled_convolution_op, _jit_compiled_convolution_op, _jit_compiled_convolution_op while saving (showing 3 of 3). These functions will not be directly callable after loading.\n"
     ]
    },
    {
     "name": "stdout",
     "output_type": "stream",
     "text": [
      "INFO:tensorflow:Assets written to: Final_CNN_Model_2\\assets\n"
     ]
    },
    {
     "name": "stderr",
     "output_type": "stream",
     "text": [
      "INFO:tensorflow:Assets written to: Final_CNN_Model_2\\assets\n"
     ]
    }
   ],
   "source": [
    "model2 = tf.keras.Sequential([\n",
    "    tf.keras.layers.Conv2D(32, (3, 3), activation='relu', input_shape=(32, 32, 3), kernel_regularizer=tf.keras.regularizers.L1(l1=1e-7)),\n",
    "    tf.keras.layers.MaxPooling2D((2, 2)),\n",
    "    tf.keras.layers.Conv2D(64, (3, 3), activation='relu', kernel_regularizer=tf.keras.regularizers.L1(l1=1e-7)),\n",
    "    tf.keras.layers.MaxPooling2D((2, 2)),\n",
    "    tf.keras.layers.Conv2D(128, (3, 3), activation='relu', kernel_regularizer=tf.keras.regularizers.L1(l1=1e-7)),\n",
    "    tf.keras.layers.MaxPooling2D(2, 2),\n",
    "    tf.keras.layers.Flatten(),\n",
    "    tf.keras.layers.Dense(128, activation='relu', kernel_regularizer=tf.keras.regularizers.L1(l1=1e-7)),\n",
    "    tf.keras.layers.Dense(64, activation='relu', kernel_regularizer=tf.keras.regularizers.L1(l1=1e-7)),\n",
    "    tf.keras.layers.Dense(10),\n",
    "])\n",
    "\n",
    "model2.compile(optimizer='adam',\n",
    "              loss=tf.keras.losses.SparseCategoricalCrossentropy(from_logits=True),\n",
    "              metrics=['accuracy'])\n",
    "\n",
    "history = model2.fit(S_inR, S_inY, epochs=20,\n",
    "                   validation_data=(S_outR, S_outY))\n",
    "\n",
    "model2.save('Final_CNN_Model')"
   ]
  },
  {
   "cell_type": "code",
   "execution_count": 6,
   "id": "2d84e19c",
   "metadata": {},
   "outputs": [],
   "source": [
    "model2acc = history.history['accuracy']\n",
    "model2valAcc = history.history['val_accuracy']\n",
    "model2valLoss = history.history['val_loss']"
   ]
  },
  {
   "cell_type": "code",
   "execution_count": 7,
   "id": "1529c8c4",
   "metadata": {
    "scrolled": false
   },
   "outputs": [
    {
     "data": {
      "text/plain": [
       "<matplotlib.legend.Legend at 0x2074253f0c8>"
      ]
     },
     "execution_count": 7,
     "metadata": {},
     "output_type": "execute_result"
    },
    {
     "data": {
      "image/png": "[encoded data removed]",
      "text/plain": [
       "<Figure size 640x480 with 1 Axes>"
      ]
     },
     "metadata": {},
     "output_type": "display_data"
    }
   ],
   "source": [
    "f, ax=plt.subplots()\n",
    "ax.title.set_text(\"1e-7 Accuracy/Val Accuracy\")\n",
    "ax.plot(model2valAcc, label=\"val_accuracy\", color='b')\n",
    "ax.plot(model2acc, label=\"accuracy\", color='r')\n",
    "ax.set_xlabel(\"$epochs$\")\n",
    "ax.legend(fontsize=12)"
   ]
  },
  {
   "cell_type": "code",
   "execution_count": 22,
   "id": "00c7dac4",
   "metadata": {},
   "outputs": [
    {
     "name": "stdout",
     "output_type": "stream",
     "text": [
      "313/313 [==============================] - 1s 4ms/step\n",
      "tf.Tensor(1.95693, shape=(), dtype=float32)\n"
     ]
    }
   ],
   "source": [
    "m2pred = model2.predict(S_outR)\n",
    "\n",
    "err = tf.keras.losses.SparseCategoricalCrossentropy()\n",
    "\n",
    "m2Eout = err(S_outY, m2pred)\n",
    "\n",
    "print(m2Eout)"
   ]
  },
  {
   "cell_type": "code",
   "execution_count": 19,
   "id": "4179758f",
   "metadata": {
    "scrolled": true
   },
   "outputs": [],
   "source": [
    "m2Acc = (S_outY==m2_pred.argmax(axis=1)).sum()/S_outY.shape[0]"
   ]
  },
  {
   "cell_type": "code",
   "execution_count": 20,
   "id": "728a8264",
   "metadata": {},
   "outputs": [
    {
     "name": "stdout",
     "output_type": "stream",
     "text": [
      "0.7154\n"
     ]
    }
   ],
   "source": [
    "print(m2Acc)"
   ]
  },
  {
   "cell_type": "code",
   "execution_count": 23,
   "id": "bd5e0cdc",
   "metadata": {},
   "outputs": [
    {
     "data": {
      "text/plain": [
       "0.8347340017557144"
      ]
     },
     "execution_count": 23,
     "metadata": {},
     "output_type": "execute_result"
    }
   ],
   "source": [
    "np.mean(model2acc)"
   ]
  },
  {
   "cell_type": "code",
   "execution_count": 24,
   "id": "c128bcbf",
   "metadata": {},
   "outputs": [
    {
     "name": "stdout",
     "output_type": "stream",
     "text": [
      "1563/1563 [==============================] - 7s 4ms/step\n",
      "tf.Tensor(1.1651019, shape=(), dtype=float32)\n"
     ]
    }
   ],
   "source": [
    "m2predIn = model2.predict(S_inR)\n",
    "\n",
    "err = tf.keras.losses.SparseCategoricalCrossentropy()\n",
    "\n",
    "m2Ein = err(S_inY, m2predIn)\n",
    "\n",
    "print(m2Ein)"
   ]
  },
  {
   "cell_type": "markdown",
   "id": "c1b5e62e",
   "metadata": {},
   "source": [
    "# Comparing with new gamma value"
   ]
  },
  {
   "cell_type": "markdown",
   "id": "955942c4",
   "metadata": {},
   "source": [
    "### Graphing\n"
   ]
  },
  {
   "cell_type": "code",
   "execution_count": 26,
   "id": "89d3ec85",
   "metadata": {},
   "outputs": [
    {
     "data": {
      "image/png": "[encoded data removed]",
      "text/plain": [
       "<Figure size 640x480 with 1 Axes>"
      ]
     },
     "metadata": {},
     "output_type": "display_data"
    }
   ],
   "source": [
    "models = [\"1\", \"10e2\", \"10e-3\", \"10e-5\", \"10e-7\", \"10e-10\", \"10e-13\"]\n",
    "accuracies = [27.8, 51.5, 64.1, 68.5, 68.5, 68.5, 68.5]\n",
    "\n",
    "plt.scatter(models,accuracies)\n",
    "plt.plot(models, accuracies)\n",
    "plt.xlabel(\"C\")\n",
    "plt.ylabel(\"accuracy(%)\")\n",
    "plt.title(\"SVM accuracies\")\n",
    "plt.show()"
   ]
  }
 ],
 "metadata": {
  "kernelspec": {
   "display_name": "Python 3 (ipykernel)",
   "language": "python",
   "name": "python3"
  },
  "language_info": {
   "codemirror_mode": {
    "name": "ipython",
    "version": 3
   },
   "file_extension": ".py",
   "mimetype": "text/x-python",
   "name": "python",
   "nbconvert_exporter": "python",
   "pygments_lexer": "ipython3",
   "version": "3.7.13"
  }
 },
 "nbformat": 4,
 "nbformat_minor": 5
}
