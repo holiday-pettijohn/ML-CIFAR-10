{
 "cells": [
  {
   "cell_type": "code",
   "execution_count": 1,
   "id": "12572818",
   "metadata": {},
   "outputs": [],
   "source": [
    "import tensorflow as tf\n",
    "import numpy as np\n",
    "import matplotlib.pyplot as plt\n",
    "from sklearn import (datasets, naive_bayes, neighbors, neural_network, model_selection)"
   ]
  },
  {
   "cell_type": "code",
   "execution_count": 2,
   "id": "e72ddc5b",
   "metadata": {},
   "outputs": [],
   "source": [
    "filename = \"C:\\\\Users\\\\jakes\\\\x_train.txt\"\n",
    "S_in = np.loadtxt(filename, delimiter=',')\n",
    "temp = S_in\n",
    "\n",
    "filename = \"C:\\\\Users\\\\jakes\\\\y_train.txt\"\n",
    "S_inY = np.loadtxt(filename, delimiter=',')\n",
    "tempY = S_inY"
   ]
  },
  {
   "cell_type": "code",
   "execution_count": 3,
   "id": "7ee6fa23",
   "metadata": {},
   "outputs": [],
   "source": [
    "filename = \"C:\\\\Users\\\\jakes\\\\S_val.txt\"\n",
    "S_val = np.loadtxt(filename, delimiter=',')\n",
    "tempV = S_val\n",
    "\n",
    "filename = \"C:\\\\Users\\\\jakes\\\\S_valY.txt\"\n",
    "S_valY = np.loadtxt(filename, delimiter=',')\n",
    "tempVY = S_valY"
   ]
  },
  {
   "cell_type": "markdown",
   "id": "4c8e9b42",
   "metadata": {},
   "source": [
    "### Normalizing"
   ]
  },
  {
   "cell_type": "code",
   "execution_count": 4,
   "id": "5c1b812c",
   "metadata": {},
   "outputs": [],
   "source": [
    "[N,dim]=np.shape(S_in)\n",
    "\n",
    "S_in = temp\n",
    "S_inY = tempY\n",
    "\n",
    "S_val = tempV\n",
    "S_valY = tempVY\n",
    "\n",
    "for i in range(dim):\n",
    "    mean = np.mean(S_in[:,i])\n",
    "    S_in[:,i] = S_in[:,i] - mean\n",
    "    \n",
    "    std = np.std(S_in[:,i])\n",
    "    S_in[:,i] = S_in[:,i] / std\n",
    "\n",
    "    S_val[:,i] = S_val[:,i] - mean\n",
    "    S_val[:,i] = S_val[:,i] / std"
   ]
  },
  {
   "cell_type": "markdown",
   "id": "71510371",
   "metadata": {},
   "source": [
    "## First CNN Model - finding the best lambda"
   ]
  },
  {
   "cell_type": "code",
   "execution_count": 5,
   "id": "d918ab78",
   "metadata": {},
   "outputs": [],
   "source": [
    "#Reshaping data\n",
    "\n",
    "S_trainR = S_in\n",
    "S_valR = S_val\n",
    "\n",
    "S_trainR = np.reshape(S_in, (len(S_in), 32,32,3))\n",
    "S_valR = np.reshape(S_val, (len(S_val), 32,32,3))"
   ]
  },
  {
   "cell_type": "markdown",
   "id": "da458969",
   "metadata": {},
   "source": [
    "### Using lambda = 1e-4"
   ]
  },
  {
   "cell_type": "code",
   "execution_count": 6,
   "id": "a66a7327",
   "metadata": {},
   "outputs": [
    {
     "name": "stdout",
     "output_type": "stream",
     "text": [
      "Epoch 1/10\n",
      "1563/1563 [==============================] - 42s 24ms/step - loss: 1.7371 - accuracy: 0.4830 - val_loss: 1.3769 - val_accuracy: 0.6165\n",
      "Epoch 2/10\n",
      "1563/1563 [==============================] - 36s 23ms/step - loss: 1.3370 - accuracy: 0.6305 - val_loss: 1.1959 - val_accuracy: 0.6877\n",
      "Epoch 3/10\n",
      "1563/1563 [==============================] - 36s 23ms/step - loss: 1.1936 - accuracy: 0.6837 - val_loss: 1.0890 - val_accuracy: 0.7229\n",
      "Epoch 4/10\n",
      "1563/1563 [==============================] - 36s 23ms/step - loss: 1.1196 - accuracy: 0.7133 - val_loss: 1.0449 - val_accuracy: 0.7398\n",
      "Epoch 5/10\n",
      "1563/1563 [==============================] - 36s 23ms/step - loss: 1.0637 - accuracy: 0.7350 - val_loss: 0.9624 - val_accuracy: 0.7711\n",
      "Epoch 6/10\n",
      "1563/1563 [==============================] - 36s 23ms/step - loss: 1.0186 - accuracy: 0.7525 - val_loss: 0.9222 - val_accuracy: 0.7878\n",
      "Epoch 7/10\n",
      "1563/1563 [==============================] - 36s 23ms/step - loss: 0.9863 - accuracy: 0.7653 - val_loss: 0.8875 - val_accuracy: 0.8039\n",
      "Epoch 8/10\n",
      "1563/1563 [==============================] - 37s 24ms/step - loss: 0.9578 - accuracy: 0.7804 - val_loss: 0.9547 - val_accuracy: 0.7840\n",
      "Epoch 9/10\n",
      "1563/1563 [==============================] - 36s 23ms/step - loss: 0.9336 - accuracy: 0.7889 - val_loss: 0.8834 - val_accuracy: 0.8037\n",
      "Epoch 10/10\n",
      "1563/1563 [==============================] - 36s 23ms/step - loss: 0.9167 - accuracy: 0.7982 - val_loss: 0.9093 - val_accuracy: 0.7930\n"
     ]
    }
   ],
   "source": [
    "model1 = tf.keras.Sequential([\n",
    "    tf.keras.layers.Conv2D(32, (3, 3), activation='relu', input_shape=(32, 32, 3), kernel_regularizer=tf.keras.regularizers.L1(l1=1e-4)),\n",
    "    tf.keras.layers.MaxPooling2D((2, 2)),\n",
    "    tf.keras.layers.Conv2D(64, (3, 3), activation='relu', kernel_regularizer=tf.keras.regularizers.L1(l1=1e-4)),\n",
    "    tf.keras.layers.MaxPooling2D((2, 2)),\n",
    "    tf.keras.layers.Conv2D(128, (3, 3), activation='relu', kernel_regularizer=tf.keras.regularizers.L1(l1=1e-4)),\n",
    "    tf.keras.layers.MaxPooling2D(2, 2),\n",
    "    tf.keras.layers.Flatten(),\n",
    "    tf.keras.layers.Dense(128, activation='relu', kernel_regularizer=tf.keras.regularizers.L1(l1=1e-4)),\n",
    "    tf.keras.layers.Dense(64, activation='relu', kernel_regularizer=tf.keras.regularizers.L1(l1=1e-4)),\n",
    "    tf.keras.layers.Dense(10),\n",
    "])\n",
    "\n",
    "model1.compile(optimizer='adam',\n",
    "              loss=tf.keras.losses.SparseCategoricalCrossentropy(from_logits=True),\n",
    "              metrics=['accuracy'])\n",
    "\n",
    "history = model1.fit(S_trainR, S_inY, epochs=10,\n",
    "                   validation_data=(S_valR, S_valY))"
   ]
  },
  {
   "cell_type": "code",
   "execution_count": 7,
   "id": "c86e0fd8",
   "metadata": {},
   "outputs": [],
   "source": [
    "model1acc = history.history['accuracy']\n",
    "model1valAcc = history.history['val_accuracy']\n",
    "model1valLoss = history.history['val_loss']"
   ]
  },
  {
   "cell_type": "markdown",
   "id": "0a454eec",
   "metadata": {},
   "source": [
    "### Using lambda = 1e-3"
   ]
  },
  {
   "cell_type": "code",
   "execution_count": 8,
   "id": "f6333364",
   "metadata": {},
   "outputs": [
    {
     "name": "stdout",
     "output_type": "stream",
     "text": [
      "Epoch 1/10\n",
      "1563/1563 [==============================] - 39s 24ms/step - loss: 2.3817 - accuracy: 0.3487 - val_loss: 1.8802 - val_accuracy: 0.4134\n",
      "Epoch 2/10\n",
      "1563/1563 [==============================] - 36s 23ms/step - loss: 1.7911 - accuracy: 0.4484 - val_loss: 1.6758 - val_accuracy: 0.5008\n",
      "Epoch 3/10\n",
      "1563/1563 [==============================] - 36s 23ms/step - loss: 1.6683 - accuracy: 0.4948 - val_loss: 1.5772 - val_accuracy: 0.5327\n",
      "Epoch 4/10\n",
      "1563/1563 [==============================] - 36s 23ms/step - loss: 1.6065 - accuracy: 0.5144 - val_loss: 1.5281 - val_accuracy: 0.5482\n",
      "Epoch 5/10\n",
      "1563/1563 [==============================] - 36s 23ms/step - loss: 1.5623 - accuracy: 0.5307 - val_loss: 1.5337 - val_accuracy: 0.5388\n",
      "Epoch 6/10\n",
      "1563/1563 [==============================] - 36s 23ms/step - loss: 1.5274 - accuracy: 0.5422 - val_loss: 1.5010 - val_accuracy: 0.5577\n",
      "Epoch 7/10\n",
      "1563/1563 [==============================] - 37s 23ms/step - loss: 1.5026 - accuracy: 0.5527 - val_loss: 1.4455 - val_accuracy: 0.5817\n",
      "Epoch 8/10\n",
      "1563/1563 [==============================] - 38s 24ms/step - loss: 1.4815 - accuracy: 0.5604 - val_loss: 1.4571 - val_accuracy: 0.5698\n",
      "Epoch 9/10\n",
      "1563/1563 [==============================] - 42s 27ms/step - loss: 1.4656 - accuracy: 0.5679 - val_loss: 1.4736 - val_accuracy: 0.5656\n",
      "Epoch 10/10\n",
      "1563/1563 [==============================] - 37s 24ms/step - loss: 1.4467 - accuracy: 0.5759 - val_loss: 1.3711 - val_accuracy: 0.6054\n"
     ]
    }
   ],
   "source": [
    "model1a = tf.keras.Sequential([\n",
    "    tf.keras.layers.Conv2D(32, (3, 3), activation='relu', input_shape=(32, 32, 3), kernel_regularizer=tf.keras.regularizers.L1(l1=1e-3)),\n",
    "    tf.keras.layers.MaxPooling2D((2, 2)),\n",
    "    tf.keras.layers.Conv2D(64, (3, 3), activation='relu', kernel_regularizer=tf.keras.regularizers.L1(l1=1e-3)),\n",
    "    tf.keras.layers.MaxPooling2D((2, 2)),\n",
    "    tf.keras.layers.Conv2D(128, (3, 3), activation='relu', kernel_regularizer=tf.keras.regularizers.L1(l1=1e-3)),\n",
    "    tf.keras.layers.MaxPooling2D(2, 2),\n",
    "    tf.keras.layers.Flatten(),\n",
    "    tf.keras.layers.Dense(128, activation='relu', kernel_regularizer=tf.keras.regularizers.L1(l1=1e-3)),\n",
    "    tf.keras.layers.Dense(64, activation='relu', kernel_regularizer=tf.keras.regularizers.L1(l1=1e-3)),\n",
    "    tf.keras.layers.Dense(10),\n",
    "])\n",
    "\n",
    "model1a.compile(optimizer='adam',\n",
    "              loss=tf.keras.losses.SparseCategoricalCrossentropy(from_logits=True),\n",
    "              metrics=['accuracy'])\n",
    "\n",
    "history = model1a.fit(S_trainR, S_inY, epochs=10,\n",
    "                   validation_data=(S_valR, S_valY))"
   ]
  },
  {
   "cell_type": "code",
   "execution_count": 9,
   "id": "af9544aa",
   "metadata": {},
   "outputs": [],
   "source": [
    "model1aacc = history.history['accuracy']\n",
    "model1avalAcc = history.history['val_accuracy']\n",
    "model1avalLoss = history.history['val_loss']"
   ]
  },
  {
   "cell_type": "markdown",
   "id": "d5b9e52e",
   "metadata": {},
   "source": [
    "### Using lambda = 1e-2"
   ]
  },
  {
   "cell_type": "code",
   "execution_count": 10,
   "id": "4cd3f127",
   "metadata": {},
   "outputs": [
    {
     "name": "stdout",
     "output_type": "stream",
     "text": [
      "Epoch 1/10\n",
      "1563/1563 [==============================] - 40s 24ms/step - loss: 3.9448 - accuracy: 0.0984 - val_loss: 2.5092 - val_accuracy: 0.1033\n",
      "Epoch 2/10\n",
      "1563/1563 [==============================] - 35s 22ms/step - loss: 2.5097 - accuracy: 0.0955 - val_loss: 2.5106 - val_accuracy: 0.0962\n",
      "Epoch 3/10\n",
      "1563/1563 [==============================] - 36s 23ms/step - loss: 2.5097 - accuracy: 0.0968 - val_loss: 2.5092 - val_accuracy: 0.1031\n",
      "Epoch 4/10\n",
      "1563/1563 [==============================] - 34s 22ms/step - loss: 2.5096 - accuracy: 0.1016 - val_loss: 2.5102 - val_accuracy: 0.1022\n",
      "Epoch 5/10\n",
      "1563/1563 [==============================] - 36s 23ms/step - loss: 2.5097 - accuracy: 0.0968 - val_loss: 2.5099 - val_accuracy: 0.1022\n",
      "Epoch 6/10\n",
      "1563/1563 [==============================] - 36s 23ms/step - loss: 2.5096 - accuracy: 0.0980 - val_loss: 2.5103 - val_accuracy: 0.1033\n",
      "Epoch 7/10\n",
      "1563/1563 [==============================] - 36s 23ms/step - loss: 2.5096 - accuracy: 0.0978 - val_loss: 2.5090 - val_accuracy: 0.0998\n",
      "Epoch 8/10\n",
      "1563/1563 [==============================] - 36s 23ms/step - loss: 2.5096 - accuracy: 0.0976 - val_loss: 2.5096 - val_accuracy: 0.0975\n",
      "Epoch 9/10\n",
      "1563/1563 [==============================] - 36s 23ms/step - loss: 2.5096 - accuracy: 0.0945 - val_loss: 2.5088 - val_accuracy: 0.0962\n",
      "Epoch 10/10\n",
      "1563/1563 [==============================] - 36s 23ms/step - loss: 2.5096 - accuracy: 0.0982 - val_loss: 2.5098 - val_accuracy: 0.1043\n"
     ]
    }
   ],
   "source": [
    "model1b = tf.keras.Sequential([\n",
    "    tf.keras.layers.Conv2D(32, (3, 3), activation='relu', input_shape=(32, 32, 3), kernel_regularizer=tf.keras.regularizers.L1(l1=1e-2)),\n",
    "    tf.keras.layers.MaxPooling2D((2, 2)),\n",
    "    tf.keras.layers.Conv2D(64, (3, 3), activation='relu', kernel_regularizer=tf.keras.regularizers.L1(l1=1e-2)),\n",
    "    tf.keras.layers.MaxPooling2D((2, 2)),\n",
    "    tf.keras.layers.Conv2D(128, (3, 3), activation='relu', kernel_regularizer=tf.keras.regularizers.L1(l1=1e-2)),\n",
    "    tf.keras.layers.MaxPooling2D(2, 2),\n",
    "    tf.keras.layers.Flatten(),\n",
    "    tf.keras.layers.Dense(128, activation='relu', kernel_regularizer=tf.keras.regularizers.L1(l1=1e-2)),\n",
    "    tf.keras.layers.Dense(64, activation='relu', kernel_regularizer=tf.keras.regularizers.L1(l1=1e-2)),\n",
    "    tf.keras.layers.Dense(10),\n",
    "])\n",
    "\n",
    "model1b.compile(optimizer='adam',\n",
    "              loss=tf.keras.losses.SparseCategoricalCrossentropy(from_logits=True),\n",
    "              metrics=['accuracy'])\n",
    "\n",
    "history = model1b.fit(S_trainR, S_inY, epochs=10,\n",
    "                   validation_data=(S_valR, S_valY))"
   ]
  },
  {
   "cell_type": "code",
   "execution_count": 11,
   "id": "307c45f4",
   "metadata": {},
   "outputs": [],
   "source": [
    "model1bacc = history.history['accuracy']\n",
    "model1bvalAcc = history.history['val_accuracy']\n",
    "model1bvalLoss = history.history['val_loss']"
   ]
  },
  {
   "cell_type": "markdown",
   "id": "c79f129f",
   "metadata": {},
   "source": [
    "### Using lambda = 1e-5"
   ]
  },
  {
   "cell_type": "code",
   "execution_count": 12,
   "id": "84bba8e1",
   "metadata": {},
   "outputs": [
    {
     "name": "stdout",
     "output_type": "stream",
     "text": [
      "Epoch 1/10\n",
      "1563/1563 [==============================] - 39s 24ms/step - loss: 1.6752 - accuracy: 0.4562 - val_loss: 1.3202 - val_accuracy: 0.5733\n",
      "Epoch 2/10\n",
      "1563/1563 [==============================] - 37s 23ms/step - loss: 1.2612 - accuracy: 0.5966 - val_loss: 1.0813 - val_accuracy: 0.6658\n",
      "Epoch 3/10\n",
      "1563/1563 [==============================] - 37s 24ms/step - loss: 1.1031 - accuracy: 0.6549 - val_loss: 1.0741 - val_accuracy: 0.6720\n",
      "Epoch 4/10\n",
      "1563/1563 [==============================] - 36s 23ms/step - loss: 1.0037 - accuracy: 0.6929 - val_loss: 0.9064 - val_accuracy: 0.7200\n",
      "Epoch 5/10\n",
      "1563/1563 [==============================] - 37s 23ms/step - loss: 0.9212 - accuracy: 0.7215 - val_loss: 0.8607 - val_accuracy: 0.7455\n",
      "Epoch 6/10\n",
      "1563/1563 [==============================] - 36s 23ms/step - loss: 0.8585 - accuracy: 0.7449 - val_loss: 0.7648 - val_accuracy: 0.7810\n",
      "Epoch 7/10\n",
      "1563/1563 [==============================] - 36s 23ms/step - loss: 0.8052 - accuracy: 0.7654 - val_loss: 0.7218 - val_accuracy: 0.7975\n",
      "Epoch 8/10\n",
      "1563/1563 [==============================] - 36s 23ms/step - loss: 0.7587 - accuracy: 0.7827 - val_loss: 0.6436 - val_accuracy: 0.8314\n",
      "Epoch 9/10\n",
      "1563/1563 [==============================] - 38s 24ms/step - loss: 0.7213 - accuracy: 0.7962 - val_loss: 0.6422 - val_accuracy: 0.8263\n",
      "Epoch 10/10\n",
      "1563/1563 [==============================] - 37s 23ms/step - loss: 0.6875 - accuracy: 0.8105 - val_loss: 0.6522 - val_accuracy: 0.8253\n"
     ]
    }
   ],
   "source": [
    "model1c = tf.keras.Sequential([\n",
    "    tf.keras.layers.Conv2D(32, (3, 3), activation='relu', input_shape=(32, 32, 3), kernel_regularizer=tf.keras.regularizers.L1(l1=1e-2)),\n",
    "    tf.keras.layers.MaxPooling2D((2, 2)),\n",
    "    tf.keras.layers.Conv2D(64, (3, 3), activation='relu', kernel_regularizer=tf.keras.regularizers.L1(l1=1e-5)),\n",
    "    tf.keras.layers.MaxPooling2D((2, 2)),\n",
    "    tf.keras.layers.Conv2D(128, (3, 3), activation='relu', kernel_regularizer=tf.keras.regularizers.L1(l1=1e-5)),\n",
    "    tf.keras.layers.MaxPooling2D(2, 2),\n",
    "    tf.keras.layers.Flatten(),\n",
    "    tf.keras.layers.Dense(128, activation='relu', kernel_regularizer=tf.keras.regularizers.L1(l1=1e-5)),\n",
    "    tf.keras.layers.Dense(64, activation='relu', kernel_regularizer=tf.keras.regularizers.L1(l1=1e-5)),\n",
    "    tf.keras.layers.Dense(10),\n",
    "])\n",
    "\n",
    "model1c.compile(optimizer='adam',\n",
    "              loss=tf.keras.losses.SparseCategoricalCrossentropy(from_logits=True),\n",
    "              metrics=['accuracy'])\n",
    "\n",
    "history = model1c.fit(S_trainR, S_inY, epochs=10,\n",
    "                   validation_data=(S_valR, S_valY))"
   ]
  },
  {
   "cell_type": "code",
   "execution_count": 13,
   "id": "ca6fb800",
   "metadata": {},
   "outputs": [],
   "source": [
    "model1cacc = history.history['accuracy']\n",
    "model1cvalAcc = history.history['val_accuracy']\n",
    "model1cvalLoss = history.history['val_loss']"
   ]
  },
  {
   "cell_type": "markdown",
   "id": "93c61af7",
   "metadata": {},
   "source": [
    "### Using lambda = 1e-1"
   ]
  },
  {
   "cell_type": "code",
   "execution_count": 14,
   "id": "1f0d0305",
   "metadata": {},
   "outputs": [
    {
     "name": "stdout",
     "output_type": "stream",
     "text": [
      "Epoch 1/10\n",
      "1563/1563 [==============================] - 40s 24ms/step - loss: 18.5173 - accuracy: 0.0971 - val_loss: 4.3654 - val_accuracy: 0.0962\n",
      "Epoch 2/10\n",
      "1563/1563 [==============================] - 37s 24ms/step - loss: 4.3698 - accuracy: 0.0965 - val_loss: 4.3786 - val_accuracy: 0.1022\n",
      "Epoch 3/10\n",
      "1563/1563 [==============================] - 36s 23ms/step - loss: 4.3697 - accuracy: 0.0959 - val_loss: 4.3608 - val_accuracy: 0.0998\n",
      "Epoch 4/10\n",
      "1563/1563 [==============================] - 36s 23ms/step - loss: 4.3696 - accuracy: 0.0989 - val_loss: 4.3803 - val_accuracy: 0.0975\n",
      "Epoch 5/10\n",
      "1563/1563 [==============================] - 37s 24ms/step - loss: 4.3696 - accuracy: 0.0980 - val_loss: 4.3718 - val_accuracy: 0.0998\n",
      "Epoch 6/10\n",
      "1563/1563 [==============================] - 37s 23ms/step - loss: 4.3695 - accuracy: 0.0990 - val_loss: 4.3793 - val_accuracy: 0.0975\n",
      "Epoch 7/10\n",
      "1563/1563 [==============================] - 36s 23ms/step - loss: 4.3694 - accuracy: 0.0994 - val_loss: 4.3506 - val_accuracy: 0.1043\n",
      "Epoch 8/10\n",
      "1563/1563 [==============================] - 36s 23ms/step - loss: 4.3693 - accuracy: 0.0978 - val_loss: 4.3745 - val_accuracy: 0.0984\n",
      "Epoch 9/10\n",
      "1563/1563 [==============================] - 36s 23ms/step - loss: 4.3692 - accuracy: 0.0974 - val_loss: 4.3518 - val_accuracy: 0.0984\n",
      "Epoch 10/10\n",
      "1563/1563 [==============================] - 37s 24ms/step - loss: 4.3690 - accuracy: 0.0990 - val_loss: 4.3759 - val_accuracy: 0.0968\n"
     ]
    }
   ],
   "source": [
    "model1d = tf.keras.Sequential([\n",
    "    tf.keras.layers.Conv2D(32, (3, 3), activation='relu', input_shape=(32, 32, 3), kernel_regularizer=tf.keras.regularizers.L1(l1=1e-1)),\n",
    "    tf.keras.layers.MaxPooling2D((2, 2)),\n",
    "    tf.keras.layers.Conv2D(64, (3, 3), activation='relu', kernel_regularizer=tf.keras.regularizers.L1(l1=1e-1)),\n",
    "    tf.keras.layers.MaxPooling2D((2, 2)),\n",
    "    tf.keras.layers.Conv2D(128, (3, 3), activation='relu', kernel_regularizer=tf.keras.regularizers.L1(l1=1e-1)),\n",
    "    tf.keras.layers.MaxPooling2D(2, 2),\n",
    "    tf.keras.layers.Flatten(),\n",
    "    tf.keras.layers.Dense(128, activation='relu', kernel_regularizer=tf.keras.regularizers.L1(l1=1e-1)),\n",
    "    tf.keras.layers.Dense(64, activation='relu', kernel_regularizer=tf.keras.regularizers.L1(l1=1e-1)),\n",
    "    tf.keras.layers.Dense(10),\n",
    "])\n",
    "\n",
    "model1d.compile(optimizer='adam',\n",
    "              loss=tf.keras.losses.SparseCategoricalCrossentropy(from_logits=True),\n",
    "              metrics=['accuracy'])\n",
    "\n",
    "history = model1d.fit(S_trainR, S_inY, epochs=10,\n",
    "                   validation_data=(S_valR, S_valY))"
   ]
  },
  {
   "cell_type": "code",
   "execution_count": 15,
   "id": "fbcf19b4",
   "metadata": {},
   "outputs": [],
   "source": [
    "model1dacc = history.history['accuracy']\n",
    "model1dvalAcc = history.history['val_accuracy']\n",
    "model1dvalLoss = history.history['val_loss']"
   ]
  },
  {
   "cell_type": "markdown",
   "id": "a6a226f9",
   "metadata": {},
   "source": [
    "### Using lamda = 1e-6"
   ]
  },
  {
   "cell_type": "code",
   "execution_count": 16,
   "id": "b9fd6adf",
   "metadata": {},
   "outputs": [
    {
     "name": "stdout",
     "output_type": "stream",
     "text": [
      "Epoch 1/20\n",
      "1563/1563 [==============================] - 39s 23ms/step - loss: 1.4374 - accuracy: 0.4818 - val_loss: 1.0604 - val_accuracy: 0.6312\n",
      "Epoch 2/20\n",
      "1563/1563 [==============================] - 37s 24ms/step - loss: 1.0359 - accuracy: 0.6367 - val_loss: 0.8702 - val_accuracy: 0.6990\n",
      "Epoch 3/20\n",
      "1563/1563 [==============================] - 37s 23ms/step - loss: 0.8614 - accuracy: 0.7014 - val_loss: 0.7511 - val_accuracy: 0.7409\n",
      "Epoch 4/20\n",
      "1563/1563 [==============================] - 37s 24ms/step - loss: 0.7509 - accuracy: 0.7399 - val_loss: 0.6272 - val_accuracy: 0.7801\n",
      "Epoch 5/20\n",
      "1563/1563 [==============================] - 37s 24ms/step - loss: 0.6555 - accuracy: 0.7735 - val_loss: 0.5551 - val_accuracy: 0.8120\n",
      "Epoch 6/20\n",
      "1563/1563 [==============================] - 37s 24ms/step - loss: 0.5848 - accuracy: 0.7983 - val_loss: 0.4802 - val_accuracy: 0.8329\n",
      "Epoch 7/20\n",
      "1563/1563 [==============================] - 37s 24ms/step - loss: 0.5194 - accuracy: 0.8211 - val_loss: 0.4201 - val_accuracy: 0.8591\n",
      "Epoch 8/20\n",
      "1563/1563 [==============================] - 37s 24ms/step - loss: 0.4662 - accuracy: 0.8391 - val_loss: 0.3622 - val_accuracy: 0.8779\n",
      "Epoch 9/20\n",
      "1563/1563 [==============================] - 37s 24ms/step - loss: 0.4232 - accuracy: 0.8554 - val_loss: 0.3271 - val_accuracy: 0.8877\n",
      "Epoch 10/20\n",
      "1563/1563 [==============================] - 37s 24ms/step - loss: 0.3789 - accuracy: 0.8711 - val_loss: 0.3074 - val_accuracy: 0.8976\n",
      "Epoch 11/20\n",
      "1563/1563 [==============================] - 37s 24ms/step - loss: 0.3424 - accuracy: 0.8827 - val_loss: 0.3015 - val_accuracy: 0.9007\n",
      "Epoch 12/20\n",
      "1563/1563 [==============================] - 37s 23ms/step - loss: 0.3125 - accuracy: 0.8928 - val_loss: 0.2557 - val_accuracy: 0.9160\n",
      "Epoch 13/20\n",
      "1563/1563 [==============================] - 36s 23ms/step - loss: 0.2870 - accuracy: 0.9030 - val_loss: 0.2240 - val_accuracy: 0.9250\n",
      "Epoch 14/20\n",
      "1563/1563 [==============================] - 37s 24ms/step - loss: 0.2666 - accuracy: 0.9102 - val_loss: 0.2300 - val_accuracy: 0.9248\n",
      "Epoch 15/20\n",
      "1563/1563 [==============================] - 37s 23ms/step - loss: 0.2478 - accuracy: 0.9174 - val_loss: 0.2092 - val_accuracy: 0.9315\n",
      "Epoch 16/20\n",
      "1563/1563 [==============================] - 37s 23ms/step - loss: 0.2292 - accuracy: 0.9255 - val_loss: 0.1975 - val_accuracy: 0.9340\n",
      "Epoch 17/20\n",
      "1563/1563 [==============================] - 37s 23ms/step - loss: 0.2190 - accuracy: 0.9271 - val_loss: 0.1536 - val_accuracy: 0.9536\n",
      "Epoch 18/20\n",
      "1563/1563 [==============================] - 36s 23ms/step - loss: 0.2116 - accuracy: 0.9314 - val_loss: 0.1684 - val_accuracy: 0.9491\n",
      "Epoch 19/20\n",
      "1563/1563 [==============================] - 37s 24ms/step - loss: 0.1916 - accuracy: 0.9380 - val_loss: 0.1652 - val_accuracy: 0.9475\n",
      "Epoch 20/20\n",
      "1563/1563 [==============================] - 37s 24ms/step - loss: 0.1909 - accuracy: 0.9376 - val_loss: 0.1783 - val_accuracy: 0.9451\n"
     ]
    }
   ],
   "source": [
    "model1e = tf.keras.Sequential([\n",
    "    tf.keras.layers.Conv2D(32, (3, 3), activation='relu', input_shape=(32, 32, 3), kernel_regularizer=tf.keras.regularizers.L1(l1=1e-6)),\n",
    "    tf.keras.layers.MaxPooling2D((2, 2)),\n",
    "    tf.keras.layers.Conv2D(64, (3, 3), activation='relu', kernel_regularizer=tf.keras.regularizers.L1(l1=1e-6)),\n",
    "    tf.keras.layers.MaxPooling2D((2, 2)),\n",
    "    tf.keras.layers.Conv2D(128, (3, 3), activation='relu', kernel_regularizer=tf.keras.regularizers.L1(l1=1e-6)),\n",
    "    tf.keras.layers.MaxPooling2D(2, 2),\n",
    "    tf.keras.layers.Flatten(),\n",
    "    tf.keras.layers.Dense(128, activation='relu', kernel_regularizer=tf.keras.regularizers.L1(l1=1e-6)),\n",
    "    tf.keras.layers.Dense(64, activation='relu', kernel_regularizer=tf.keras.regularizers.L1(l1=1e-6)),\n",
    "    tf.keras.layers.Dense(10),\n",
    "])\n",
    "\n",
    "model1e.compile(optimizer='adam',\n",
    "              loss=tf.keras.losses.SparseCategoricalCrossentropy(from_logits=True),\n",
    "              metrics=['accuracy'])\n",
    "\n",
    "history = model1e.fit(S_trainR, S_inY, epochs=20,\n",
    "                   validation_data=(S_valR, S_valY))"
   ]
  },
  {
   "cell_type": "code",
   "execution_count": 17,
   "id": "b757fdd6",
   "metadata": {},
   "outputs": [],
   "source": [
    "model1eacc = history.history['accuracy']\n",
    "model1evalAcc = history.history['val_accuracy']\n",
    "model1evalLoss = history.history['val_loss']"
   ]
  },
  {
   "cell_type": "markdown",
   "id": "154744e7",
   "metadata": {},
   "source": [
    "### Using lamda = 1e-7"
   ]
  },
  {
   "cell_type": "code",
   "execution_count": 18,
   "id": "afad41eb",
   "metadata": {},
   "outputs": [
    {
     "name": "stdout",
     "output_type": "stream",
     "text": [
      "Epoch 1/20\n",
      "1563/1563 [==============================] - 39s 24ms/step - loss: 1.4166 - accuracy: 0.4827 - val_loss: 1.1088 - val_accuracy: 0.6112\n",
      "Epoch 2/20\n",
      "1563/1563 [==============================] - 37s 23ms/step - loss: 1.0088 - accuracy: 0.6478 - val_loss: 0.8276 - val_accuracy: 0.7102\n",
      "Epoch 3/20\n",
      "1563/1563 [==============================] - 37s 24ms/step - loss: 0.8316 - accuracy: 0.7109 - val_loss: 0.6861 - val_accuracy: 0.7611\n",
      "Epoch 4/20\n",
      "1563/1563 [==============================] - 37s 24ms/step - loss: 0.7143 - accuracy: 0.7507 - val_loss: 0.6393 - val_accuracy: 0.7804\n",
      "Epoch 5/20\n",
      "1563/1563 [==============================] - 36s 23ms/step - loss: 0.6343 - accuracy: 0.7797 - val_loss: 0.5138 - val_accuracy: 0.8250\n",
      "Epoch 6/20\n",
      "1563/1563 [==============================] - 36s 23ms/step - loss: 0.5607 - accuracy: 0.8044 - val_loss: 0.4838 - val_accuracy: 0.8315\n",
      "Epoch 7/20\n",
      "1563/1563 [==============================] - 37s 23ms/step - loss: 0.4968 - accuracy: 0.8259 - val_loss: 0.4081 - val_accuracy: 0.8584\n",
      "Epoch 8/20\n",
      "1563/1563 [==============================] - 37s 23ms/step - loss: 0.4450 - accuracy: 0.8423 - val_loss: 0.3562 - val_accuracy: 0.8757\n",
      "Epoch 9/20\n",
      "1563/1563 [==============================] - 36s 23ms/step - loss: 0.3929 - accuracy: 0.8613 - val_loss: 0.3266 - val_accuracy: 0.8857\n",
      "Epoch 10/20\n",
      "1563/1563 [==============================] - 36s 23ms/step - loss: 0.3572 - accuracy: 0.8749 - val_loss: 0.2529 - val_accuracy: 0.9132\n",
      "Epoch 11/20\n",
      "1563/1563 [==============================] - 36s 23ms/step - loss: 0.3159 - accuracy: 0.8879 - val_loss: 0.3040 - val_accuracy: 0.8907\n",
      "Epoch 12/20\n",
      "1563/1563 [==============================] - 37s 23ms/step - loss: 0.2854 - accuracy: 0.8998 - val_loss: 0.2346 - val_accuracy: 0.9172\n",
      "Epoch 13/20\n",
      "1563/1563 [==============================] - 36s 23ms/step - loss: 0.2643 - accuracy: 0.9072 - val_loss: 0.2157 - val_accuracy: 0.9223\n",
      "Epoch 14/20\n",
      "1563/1563 [==============================] - 36s 23ms/step - loss: 0.2395 - accuracy: 0.9147 - val_loss: 0.2150 - val_accuracy: 0.9240\n",
      "Epoch 15/20\n",
      "1563/1563 [==============================] - 36s 23ms/step - loss: 0.2232 - accuracy: 0.9205 - val_loss: 0.1439 - val_accuracy: 0.9514\n",
      "Epoch 16/20\n",
      "1563/1563 [==============================] - 37s 24ms/step - loss: 0.2056 - accuracy: 0.9290 - val_loss: 0.1453 - val_accuracy: 0.9497\n",
      "Epoch 17/20\n",
      "1563/1563 [==============================] - 36s 23ms/step - loss: 0.1904 - accuracy: 0.9311 - val_loss: 0.1416 - val_accuracy: 0.9486\n",
      "Epoch 18/20\n",
      "1563/1563 [==============================] - 36s 23ms/step - loss: 0.1765 - accuracy: 0.9368 - val_loss: 0.1210 - val_accuracy: 0.9576\n",
      "Epoch 19/20\n",
      "1563/1563 [==============================] - 36s 23ms/step - loss: 0.1730 - accuracy: 0.9397 - val_loss: 0.1155 - val_accuracy: 0.9614\n",
      "Epoch 20/20\n",
      "1563/1563 [==============================] - 36s 23ms/step - loss: 0.1688 - accuracy: 0.9427 - val_loss: 0.1058 - val_accuracy: 0.9645\n"
     ]
    }
   ],
   "source": [
    "model1f = tf.keras.Sequential([\n",
    "    tf.keras.layers.Conv2D(32, (3, 3), activation='relu', input_shape=(32, 32, 3), kernel_regularizer=tf.keras.regularizers.L1(l1=1e-7)),\n",
    "    tf.keras.layers.MaxPooling2D((2, 2)),\n",
    "    tf.keras.layers.Conv2D(64, (3, 3), activation='relu', kernel_regularizer=tf.keras.regularizers.L1(l1=1e-7)),\n",
    "    tf.keras.layers.MaxPooling2D((2, 2)),\n",
    "    tf.keras.layers.Conv2D(128, (3, 3), activation='relu', kernel_regularizer=tf.keras.regularizers.L1(l1=1e-7)),\n",
    "    tf.keras.layers.MaxPooling2D(2, 2),\n",
    "    tf.keras.layers.Flatten(),\n",
    "    tf.keras.layers.Dense(128, activation='relu', kernel_regularizer=tf.keras.regularizers.L1(l1=1e-7)),\n",
    "    tf.keras.layers.Dense(64, activation='relu', kernel_regularizer=tf.keras.regularizers.L1(l1=1e-7)),\n",
    "    tf.keras.layers.Dense(10),\n",
    "])\n",
    "\n",
    "model1f.compile(optimizer='adam',\n",
    "              loss=tf.keras.losses.SparseCategoricalCrossentropy(from_logits=True),\n",
    "              metrics=['accuracy'])\n",
    "\n",
    "history = model1f.fit(S_trainR, S_inY, epochs=20,\n",
    "                   validation_data=(S_valR, S_valY))"
   ]
  },
  {
   "cell_type": "code",
   "execution_count": 19,
   "id": "b666007c",
   "metadata": {},
   "outputs": [],
   "source": [
    "model1facc = history.history['accuracy']\n",
    "model1fvalAcc = history.history['val_accuracy']\n",
    "model1fvalLoss = history.history['val_loss']"
   ]
  },
  {
   "cell_type": "markdown",
   "id": "dba1f724",
   "metadata": {},
   "source": [
    "### Using lamda = 1e-8"
   ]
  },
  {
   "cell_type": "code",
   "execution_count": 20,
   "id": "03c4783d",
   "metadata": {},
   "outputs": [
    {
     "name": "stdout",
     "output_type": "stream",
     "text": [
      "Epoch 1/20\n",
      "1563/1563 [==============================] - 41s 24ms/step - loss: 1.3910 - accuracy: 0.4962 - val_loss: 1.0611 - val_accuracy: 0.6244\n",
      "Epoch 2/20\n",
      "1563/1563 [==============================] - 37s 24ms/step - loss: 1.0017 - accuracy: 0.6482 - val_loss: 0.8374 - val_accuracy: 0.7030\n",
      "Epoch 3/20\n",
      "1563/1563 [==============================] - 37s 24ms/step - loss: 0.8283 - accuracy: 0.7121 - val_loss: 0.6598 - val_accuracy: 0.7676\n",
      "Epoch 4/20\n",
      "1563/1563 [==============================] - 37s 23ms/step - loss: 0.7155 - accuracy: 0.7514 - val_loss: 0.6220 - val_accuracy: 0.7799\n",
      "Epoch 5/20\n",
      "1563/1563 [==============================] - 37s 24ms/step - loss: 0.6292 - accuracy: 0.7805 - val_loss: 0.5208 - val_accuracy: 0.8163\n",
      "Epoch 6/20\n",
      "1563/1563 [==============================] - 37s 23ms/step - loss: 0.5612 - accuracy: 0.8046 - val_loss: 0.4699 - val_accuracy: 0.8355\n",
      "Epoch 7/20\n",
      "1563/1563 [==============================] - 37s 24ms/step - loss: 0.4994 - accuracy: 0.8260 - val_loss: 0.4095 - val_accuracy: 0.8586\n",
      "Epoch 8/20\n",
      "1563/1563 [==============================] - 36s 23ms/step - loss: 0.4443 - accuracy: 0.8451 - val_loss: 0.3777 - val_accuracy: 0.8705\n",
      "Epoch 9/20\n",
      "1563/1563 [==============================] - 36s 23ms/step - loss: 0.3990 - accuracy: 0.8602 - val_loss: 0.3169 - val_accuracy: 0.8905\n",
      "Epoch 10/20\n",
      "1563/1563 [==============================] - 37s 23ms/step - loss: 0.3518 - accuracy: 0.8768 - val_loss: 0.2605 - val_accuracy: 0.9101\n",
      "Epoch 11/20\n",
      "1563/1563 [==============================] - 36s 23ms/step - loss: 0.3203 - accuracy: 0.8863 - val_loss: 0.2845 - val_accuracy: 0.9006\n",
      "Epoch 12/20\n",
      "1563/1563 [==============================] - 37s 23ms/step - loss: 0.2895 - accuracy: 0.8985 - val_loss: 0.2542 - val_accuracy: 0.9091\n",
      "Epoch 13/20\n",
      "1563/1563 [==============================] - 36s 23ms/step - loss: 0.2614 - accuracy: 0.9066 - val_loss: 0.2153 - val_accuracy: 0.9236\n",
      "Epoch 14/20\n",
      "1563/1563 [==============================] - 36s 23ms/step - loss: 0.2431 - accuracy: 0.9149 - val_loss: 0.1680 - val_accuracy: 0.9431\n",
      "Epoch 15/20\n",
      "1563/1563 [==============================] - 37s 24ms/step - loss: 0.2231 - accuracy: 0.9215 - val_loss: 0.1549 - val_accuracy: 0.9467\n",
      "Epoch 16/20\n",
      "1563/1563 [==============================] - 37s 23ms/step - loss: 0.2061 - accuracy: 0.9285 - val_loss: 0.1719 - val_accuracy: 0.9454\n",
      "Epoch 17/20\n",
      "1563/1563 [==============================] - 37s 24ms/step - loss: 0.2002 - accuracy: 0.9306 - val_loss: 0.1423 - val_accuracy: 0.9509\n",
      "Epoch 18/20\n",
      "1563/1563 [==============================] - 36s 23ms/step - loss: 0.1834 - accuracy: 0.9352 - val_loss: 0.1326 - val_accuracy: 0.9541\n",
      "Epoch 19/20\n",
      "1563/1563 [==============================] - 36s 23ms/step - loss: 0.1770 - accuracy: 0.9378 - val_loss: 0.1588 - val_accuracy: 0.9447\n",
      "Epoch 20/20\n",
      "1563/1563 [==============================] - 36s 23ms/step - loss: 0.1625 - accuracy: 0.9427 - val_loss: 0.1635 - val_accuracy: 0.9441\n"
     ]
    }
   ],
   "source": [
    "model1g = tf.keras.Sequential([\n",
    "    tf.keras.layers.Conv2D(32, (3, 3), activation='relu', input_shape=(32, 32, 3), kernel_regularizer=tf.keras.regularizers.L1(l1=1e-8)),\n",
    "    tf.keras.layers.MaxPooling2D((2, 2)),\n",
    "    tf.keras.layers.Conv2D(64, (3, 3), activation='relu', kernel_regularizer=tf.keras.regularizers.L1(l1=1e-8)),\n",
    "    tf.keras.layers.MaxPooling2D((2, 2)),\n",
    "    tf.keras.layers.Conv2D(128, (3, 3), activation='relu', kernel_regularizer=tf.keras.regularizers.L1(l1=1e-8)),\n",
    "    tf.keras.layers.MaxPooling2D(2, 2),\n",
    "    tf.keras.layers.Flatten(),\n",
    "    tf.keras.layers.Dense(128, activation='relu', kernel_regularizer=tf.keras.regularizers.L1(l1=1e-7)),\n",
    "    tf.keras.layers.Dense(64, activation='relu', kernel_regularizer=tf.keras.regularizers.L1(l1=1e-7)),\n",
    "    tf.keras.layers.Dense(10),\n",
    "])\n",
    "\n",
    "model1g.compile(optimizer='adam',\n",
    "              loss=tf.keras.losses.SparseCategoricalCrossentropy(from_logits=True),\n",
    "              metrics=['accuracy'])\n",
    "\n",
    "history = model1g.fit(S_trainR, S_inY, epochs=20,\n",
    "                   validation_data=(S_valR, S_valY))"
   ]
  },
  {
   "cell_type": "code",
   "execution_count": 21,
   "id": "f1eb3250",
   "metadata": {},
   "outputs": [],
   "source": [
    "model1gacc = history.history['accuracy']\n",
    "model1gvalAcc = history.history['val_accuracy']\n",
    "model1gvalLoss = history.history['val_loss']"
   ]
  },
  {
   "cell_type": "markdown",
   "id": "ac1c1ac0",
   "metadata": {},
   "source": [
    "### Using lamda = 1e-9"
   ]
  },
  {
   "cell_type": "code",
   "execution_count": 22,
   "id": "86aa00e6",
   "metadata": {},
   "outputs": [
    {
     "name": "stdout",
     "output_type": "stream",
     "text": [
      "Epoch 1/20\n",
      "1563/1563 [==============================] - 39s 24ms/step - loss: 1.3828 - accuracy: 0.4984 - val_loss: 1.0678 - val_accuracy: 0.6252\n",
      "Epoch 2/20\n",
      "1563/1563 [==============================] - 37s 23ms/step - loss: 0.9837 - accuracy: 0.6568 - val_loss: 0.8085 - val_accuracy: 0.7151\n",
      "Epoch 3/20\n",
      "1563/1563 [==============================] - 38s 24ms/step - loss: 0.8202 - accuracy: 0.7140 - val_loss: 0.6666 - val_accuracy: 0.7734\n",
      "Epoch 4/20\n",
      "1563/1563 [==============================] - 36s 23ms/step - loss: 0.7149 - accuracy: 0.7518 - val_loss: 0.6079 - val_accuracy: 0.7871\n",
      "Epoch 5/20\n",
      "1563/1563 [==============================] - 36s 23ms/step - loss: 0.6373 - accuracy: 0.7779 - val_loss: 0.5568 - val_accuracy: 0.8019\n",
      "Epoch 6/20\n",
      "1563/1563 [==============================] - 36s 23ms/step - loss: 0.5675 - accuracy: 0.8013 - val_loss: 0.5091 - val_accuracy: 0.8206\n",
      "Epoch 7/20\n",
      "1563/1563 [==============================] - 36s 23ms/step - loss: 0.5087 - accuracy: 0.8203 - val_loss: 0.4294 - val_accuracy: 0.8533\n",
      "Epoch 8/20\n",
      "1563/1563 [==============================] - 36s 23ms/step - loss: 0.4575 - accuracy: 0.8402 - val_loss: 0.3561 - val_accuracy: 0.8793\n",
      "Epoch 9/20\n",
      "1563/1563 [==============================] - 36s 23ms/step - loss: 0.4114 - accuracy: 0.8565 - val_loss: 0.3358 - val_accuracy: 0.8834\n",
      "Epoch 10/20\n",
      "1563/1563 [==============================] - 37s 23ms/step - loss: 0.3746 - accuracy: 0.8682 - val_loss: 0.2974 - val_accuracy: 0.8993\n",
      "Epoch 11/20\n",
      "1563/1563 [==============================] - 36s 23ms/step - loss: 0.3312 - accuracy: 0.8825 - val_loss: 0.3472 - val_accuracy: 0.8779\n",
      "Epoch 12/20\n",
      "1563/1563 [==============================] - 36s 23ms/step - loss: 0.3088 - accuracy: 0.8910 - val_loss: 0.2804 - val_accuracy: 0.9048\n",
      "Epoch 13/20\n",
      "1563/1563 [==============================] - 36s 23ms/step - loss: 0.2842 - accuracy: 0.8990 - val_loss: 0.2834 - val_accuracy: 0.9010\n",
      "Epoch 14/20\n",
      "1563/1563 [==============================] - 36s 23ms/step - loss: 0.2518 - accuracy: 0.9111 - val_loss: 0.2203 - val_accuracy: 0.9219\n",
      "Epoch 15/20\n",
      "1563/1563 [==============================] - 36s 23ms/step - loss: 0.2349 - accuracy: 0.9174 - val_loss: 0.2236 - val_accuracy: 0.9216\n",
      "Epoch 16/20\n",
      "1563/1563 [==============================] - 36s 23ms/step - loss: 0.2229 - accuracy: 0.9214 - val_loss: 0.1998 - val_accuracy: 0.9290\n",
      "Epoch 17/20\n",
      "1563/1563 [==============================] - 36s 23ms/step - loss: 0.2034 - accuracy: 0.9294 - val_loss: 0.1676 - val_accuracy: 0.9430\n",
      "Epoch 18/20\n",
      "1563/1563 [==============================] - 36s 23ms/step - loss: 0.1969 - accuracy: 0.9316 - val_loss: 0.1351 - val_accuracy: 0.9549\n",
      "Epoch 19/20\n",
      "1563/1563 [==============================] - 36s 23ms/step - loss: 0.1798 - accuracy: 0.9371 - val_loss: 0.1233 - val_accuracy: 0.9570\n",
      "Epoch 20/20\n",
      "1563/1563 [==============================] - 37s 23ms/step - loss: 0.1697 - accuracy: 0.9406 - val_loss: 0.1245 - val_accuracy: 0.9595\n"
     ]
    }
   ],
   "source": [
    "model1h = tf.keras.Sequential([\n",
    "    tf.keras.layers.Conv2D(32, (3, 3), activation='relu', input_shape=(32, 32, 3), kernel_regularizer=tf.keras.regularizers.L1(l1=1e-9)),\n",
    "    tf.keras.layers.MaxPooling2D((2, 2)),\n",
    "    tf.keras.layers.Conv2D(64, (3, 3), activation='relu', kernel_regularizer=tf.keras.regularizers.L1(l1=1e-9)),\n",
    "    tf.keras.layers.MaxPooling2D((2, 2)),\n",
    "    tf.keras.layers.Conv2D(128, (3, 3), activation='relu', kernel_regularizer=tf.keras.regularizers.L1(l1=1e-9)),\n",
    "    tf.keras.layers.MaxPooling2D(2, 2),\n",
    "    tf.keras.layers.Flatten(),\n",
    "    tf.keras.layers.Dense(128, activation='relu', kernel_regularizer=tf.keras.regularizers.L1(l1=1e-9)),\n",
    "    tf.keras.layers.Dense(64, activation='relu', kernel_regularizer=tf.keras.regularizers.L1(l1=1e-9)),\n",
    "    tf.keras.layers.Dense(10),\n",
    "])\n",
    "\n",
    "model1h.compile(optimizer='adam',\n",
    "              loss=tf.keras.losses.SparseCategoricalCrossentropy(from_logits=True),\n",
    "              metrics=['accuracy'])\n",
    "\n",
    "history = model1h.fit(S_trainR, S_inY, epochs=20,\n",
    "                   validation_data=(S_valR, S_valY))"
   ]
  },
  {
   "cell_type": "code",
   "execution_count": 23,
   "id": "9b0ad7b9",
   "metadata": {},
   "outputs": [],
   "source": [
    "model1hacc = history.history['accuracy']\n",
    "model1hvalAcc = history.history['val_accuracy']\n",
    "model1hvalLoss = history.history['val_loss']"
   ]
  },
  {
   "cell_type": "markdown",
   "id": "cbd39fe4",
   "metadata": {},
   "source": [
    "### Using lamda = 1e-10"
   ]
  },
  {
   "cell_type": "code",
   "execution_count": 24,
   "id": "ddb2b21c",
   "metadata": {},
   "outputs": [
    {
     "name": "stdout",
     "output_type": "stream",
     "text": [
      "Epoch 1/20\n",
      "1563/1563 [==============================] - 41s 25ms/step - loss: 1.4109 - accuracy: 0.4892 - val_loss: 1.1138 - val_accuracy: 0.6082\n",
      "Epoch 2/20\n",
      "1563/1563 [==============================] - 37s 24ms/step - loss: 1.0033 - accuracy: 0.6466 - val_loss: 0.8748 - val_accuracy: 0.6930\n",
      "Epoch 3/20\n",
      "1563/1563 [==============================] - 38s 24ms/step - loss: 0.8315 - accuracy: 0.7080 - val_loss: 0.7162 - val_accuracy: 0.7481\n",
      "Epoch 4/20\n",
      "1563/1563 [==============================] - 36s 23ms/step - loss: 0.7216 - accuracy: 0.7492 - val_loss: 0.6196 - val_accuracy: 0.7808\n",
      "Epoch 5/20\n",
      "1563/1563 [==============================] - 37s 23ms/step - loss: 0.6332 - accuracy: 0.7804 - val_loss: 0.5153 - val_accuracy: 0.8186\n",
      "Epoch 6/20\n",
      "1563/1563 [==============================] - 27s 17ms/step - loss: 0.5630 - accuracy: 0.8016 - val_loss: 0.5239 - val_accuracy: 0.8123\n",
      "Epoch 7/20\n",
      "1563/1563 [==============================] - 18s 11ms/step - loss: 0.5033 - accuracy: 0.8229 - val_loss: 0.3930 - val_accuracy: 0.8608\n",
      "Epoch 8/20\n",
      "1563/1563 [==============================] - 18s 12ms/step - loss: 0.4512 - accuracy: 0.8417 - val_loss: 0.3911 - val_accuracy: 0.8600\n",
      "Epoch 9/20\n",
      "1563/1563 [==============================] - 18s 12ms/step - loss: 0.4045 - accuracy: 0.8578 - val_loss: 0.3343 - val_accuracy: 0.8840\n",
      "Epoch 10/20\n",
      "1563/1563 [==============================] - 18s 12ms/step - loss: 0.3606 - accuracy: 0.8702 - val_loss: 0.2695 - val_accuracy: 0.9105\n",
      "Epoch 11/20\n",
      "1563/1563 [==============================] - 19s 12ms/step - loss: 0.3241 - accuracy: 0.8849 - val_loss: 0.2544 - val_accuracy: 0.9122\n",
      "Epoch 12/20\n",
      "1563/1563 [==============================] - 18s 12ms/step - loss: 0.2916 - accuracy: 0.8957 - val_loss: 0.2241 - val_accuracy: 0.9233\n",
      "Epoch 13/20\n",
      "1563/1563 [==============================] - 18s 12ms/step - loss: 0.2693 - accuracy: 0.9035 - val_loss: 0.2357 - val_accuracy: 0.9204\n",
      "Epoch 14/20\n",
      "1563/1563 [==============================] - 19s 12ms/step - loss: 0.2398 - accuracy: 0.9159 - val_loss: 0.1864 - val_accuracy: 0.9333\n",
      "Epoch 15/20\n",
      "1563/1563 [==============================] - 19s 12ms/step - loss: 0.2167 - accuracy: 0.9225 - val_loss: 0.2040 - val_accuracy: 0.9263\n",
      "Epoch 16/20\n",
      "1563/1563 [==============================] - 19s 12ms/step - loss: 0.2005 - accuracy: 0.9291 - val_loss: 0.1465 - val_accuracy: 0.9501\n",
      "Epoch 17/20\n",
      "1563/1563 [==============================] - 19s 12ms/step - loss: 0.1912 - accuracy: 0.9315 - val_loss: 0.1172 - val_accuracy: 0.9582\n",
      "Epoch 18/20\n",
      "1563/1563 [==============================] - 19s 12ms/step - loss: 0.1847 - accuracy: 0.9357 - val_loss: 0.1631 - val_accuracy: 0.9437\n",
      "Epoch 19/20\n",
      "1563/1563 [==============================] - 19s 12ms/step - loss: 0.1656 - accuracy: 0.9416 - val_loss: 0.1237 - val_accuracy: 0.9577\n",
      "Epoch 20/20\n",
      "1563/1563 [==============================] - 19s 12ms/step - loss: 0.1649 - accuracy: 0.9419 - val_loss: 0.1199 - val_accuracy: 0.9590\n"
     ]
    },
    {
     "name": "stderr",
     "output_type": "stream",
     "text": [
      "WARNING:absl:Found untraced functions such as _jit_compiled_convolution_op, _jit_compiled_convolution_op, _jit_compiled_convolution_op while saving (showing 3 of 3). These functions will not be directly callable after loading.\n"
     ]
    },
    {
     "name": "stdout",
     "output_type": "stream",
     "text": [
      "INFO:tensorflow:Assets written to: CNN_Model\\assets\n"
     ]
    },
    {
     "name": "stderr",
     "output_type": "stream",
     "text": [
      "INFO:tensorflow:Assets written to: CNN_Model\\assets\n"
     ]
    }
   ],
   "source": [
    "model1i = tf.keras.Sequential([\n",
    "    tf.keras.layers.Conv2D(32, (3, 3), activation='relu', input_shape=(32, 32, 3), kernel_regularizer=tf.keras.regularizers.L1(l1=1e-10)),\n",
    "    tf.keras.layers.MaxPooling2D((2, 2)),\n",
    "    tf.keras.layers.Conv2D(64, (3, 3), activation='relu', kernel_regularizer=tf.keras.regularizers.L1(l1=1e-10)),\n",
    "    tf.keras.layers.MaxPooling2D((2, 2)),\n",
    "    tf.keras.layers.Conv2D(128, (3, 3), activation='relu', kernel_regularizer=tf.keras.regularizers.L1(l1=1e-10)),\n",
    "    tf.keras.layers.MaxPooling2D(2, 2),\n",
    "    tf.keras.layers.Flatten(),\n",
    "    tf.keras.layers.Dense(128, activation='relu', kernel_regularizer=tf.keras.regularizers.L1(l1=1e-10)),\n",
    "    tf.keras.layers.Dense(64, activation='relu', kernel_regularizer=tf.keras.regularizers.L1(l1=1e-10)),\n",
    "    tf.keras.layers.Dense(10),\n",
    "])\n",
    "\n",
    "model1i.compile(optimizer='adam',\n",
    "              loss=tf.keras.losses.SparseCategoricalCrossentropy(from_logits=True),\n",
    "              metrics=['accuracy'])\n",
    "\n",
    "history = model1i.fit(S_trainR, S_inY, epochs=20,\n",
    "                   validation_data=(S_valR, S_valY))\n",
    "\n",
    "model1i.save('CNN_Model')"
   ]
  },
  {
   "cell_type": "code",
   "execution_count": 26,
   "id": "06c84b45",
   "metadata": {},
   "outputs": [],
   "source": [
    "model1iacc = history.history['accuracy']\n",
    "model1ivalAcc = history.history['val_accuracy']\n",
    "model1ivalLoss = history.history['val_loss']"
   ]
  },
  {
   "cell_type": "code",
   "execution_count": 27,
   "id": "e1cb059e",
   "metadata": {},
   "outputs": [
    {
     "data": {
      "text/plain": [
       "<matplotlib.legend.Legend at 0x25556400108>"
      ]
     },
     "execution_count": 27,
     "metadata": {},
     "output_type": "execute_result"
    },
    {
     "data": {
      "image/png": "[encoded data removed]",
      "text/plain": [
       "<Figure size 640x480 with 1 Axes>"
      ]
     },
     "metadata": {},
     "output_type": "display_data"
    }
   ],
   "source": [
    "f, ax=plt.subplots()\n",
    "ax.title.set_text(\"Lower Performing Lambda Accuracy with Model 1\")\n",
    "ax.plot(model1cvalAcc, label=\"1e-5\", color='g')\n",
    "ax.plot(model1valAcc, label=\"1e-4\", color='k')\n",
    "ax.plot(model1avalAcc, label=\"1e-3\", color='b')\n",
    "ax.plot(model1bvalAcc, label=\"1e-2\", color='r')\n",
    "ax.plot(model1dvalAcc, label=\"1e-1\", color='y')\n",
    "ax.set_xlabel(\"$epochs$\")\n",
    "ax.legend(fontsize=12)"
   ]
  },
  {
   "cell_type": "code",
   "execution_count": 30,
   "id": "a62c9775",
   "metadata": {},
   "outputs": [
    {
     "name": "stdout",
     "output_type": "stream",
     "text": [
      "Max mean accuracy is 0.8401819974184036 from model 2\n"
     ]
    },
    {
     "data": {
      "image/png": "[encoded data removed]",
      "text/plain": [
       "<Figure size 640x480 with 1 Axes>"
      ]
     },
     "metadata": {},
     "output_type": "display_data"
    }
   ],
   "source": [
    "means = [np.mean(model1eacc), np.mean(model1facc), np.mean(model1gacc), np.mean(model1hacc), np.mean(model1iacc)]\n",
    "\n",
    "f, ax=plt.subplots()\n",
    "ax.title.set_text(\"Highest Performing Lambda Val Accuracy with Model 1\")\n",
    "ax.plot(model1ivalAcc, label=\"1e-10\", color='b')\n",
    "ax.plot(model1hvalAcc, label=\"1e-9\", color='r')\n",
    "ax.plot(model1gvalAcc, label=\"1e-8\", color='y')\n",
    "ax.plot(model1fvalAcc, label=\"1e-7\", color='c')\n",
    "ax.plot(model1evalAcc, label=\"1e-6\", color='m')\n",
    "ax.set_xlabel(\"$epochs$\")\n",
    "ax.legend(fontsize=12)\n",
    "\n",
    "\n",
    "print(\"Max mean accuracy is\",max(means),\"from model\", means.index(max(means)))"
   ]
  }
 ],
 "metadata": {
  "kernelspec": {
   "display_name": "Python 3 (ipykernel)",
   "language": "python",
   "name": "python3"
  },
  "language_info": {
   "codemirror_mode": {
    "name": "ipython",
    "version": 3
   },
   "file_extension": ".py",
   "mimetype": "text/x-python",
   "name": "python",
   "nbconvert_exporter": "python",
   "pygments_lexer": "ipython3",
   "version": "3.7.13"
  }
 },
 "nbformat": 4,
 "nbformat_minor": 5
}
