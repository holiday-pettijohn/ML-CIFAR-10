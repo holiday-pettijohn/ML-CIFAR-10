{
 "cells": [
  {
   "cell_type": "code",
   "execution_count": 5,
   "id": "3a9c812f",
   "metadata": {},
   "outputs": [],
   "source": [
    "import tensorflow as tf\n",
    "import numpy as np\n",
    "import matplotlib.pyplot as plt\n",
    "from sklearn import (datasets, naive_bayes, neighbors, neural_network, model_selection, svm)"
   ]
  },
  {
   "cell_type": "code",
   "execution_count": 2,
   "id": "4056a7da",
   "metadata": {},
   "outputs": [],
   "source": [
    "filename = \"C:\\\\Users\\\\jakes\\\\S_train.txt\"\n",
    "S_in = np.loadtxt(filename, delimiter=',')\n",
    "temp = S_in\n",
    "\n",
    "filename = \"C:\\\\Users\\\\jakes\\\\S_trainY.txt\"\n",
    "S_inY = np.loadtxt(filename, delimiter=',')\n",
    "tempY = S_inY\n",
    "\n",
    "filename = \"C:\\\\Users\\\\jakes\\\\S_val.txt\"\n",
    "S_out = np.loadtxt(filename, delimiter=',')\n",
    "tempO = S_out\n",
    "\n",
    "filename = \"C:\\\\Users\\\\jakes\\\\S_valY.txt\"\n",
    "S_outY = np.loadtxt(filename, delimiter=',')\n",
    "tempOY = S_outY"
   ]
  },
  {
   "cell_type": "code",
   "execution_count": 3,
   "id": "30ec0b5f",
   "metadata": {},
   "outputs": [],
   "source": [
    "[N,dim]=np.shape(S_in)\n",
    "\n",
    "S_in = temp\n",
    "S_inY = tempY\n",
    "\n",
    "S_out = tempO\n",
    "S_outY = tempOY\n",
    "\n",
    "for i in range(dim):\n",
    "    mean = np.mean(S_in[:,i])\n",
    "    S_in[:,i] = S_in[:,i] - mean\n",
    "    \n",
    "    std = np.std(S_in[:,i])\n",
    "    S_in[:,i] = S_in[:,i] / std\n",
    "\n",
    "    S_out[:,i] = S_out[:,i] - mean\n",
    "    S_out[:,i] = S_out[:,i] / std\n",
    "    \n",
    "    \n",
    "#Reshaping data\n",
    "\n",
    "S_inR = S_in\n",
    "S_outR = S_out\n",
    "\n",
    "S_inR = np.reshape(S_in, (len(S_in), 32,32,3))\n",
    "S_outR = np.reshape(S_out, (len(S_out), 32,32,3))"
   ]
  },
  {
   "cell_type": "code",
   "execution_count": 6,
   "id": "29079a77",
   "metadata": {},
   "outputs": [
    {
     "name": "stdout",
     "output_type": "stream",
     "text": [
      "Eout         : 45.7 %\n",
      "SV  estimate : 89.9 %\n",
      "Number of support vectors: 35957\n"
     ]
    }
   ],
   "source": [
    "clf=svm.SVC(kernel='rbf', C=1)\n",
    "clf.fit(S_in, S_inY)\n",
    "gtest=clf.predict(S_out)\n",
    "sv=clf.support_vectors_\n",
    "\n",
    "tt=np.linspace(-2,2)\n",
    "\n",
    "q=3\n",
    "Ytt=3.7*(tt+2)**q/(1+(tt+2)**q)-2\n",
    "\n",
    "[SVs, _] = sv.shape;\n",
    "Eout=np.mean(S_outY!=gtest)\n",
    "print(\"Eout         : %.1f\"% (Eout*100), \"%\")\n",
    "print(\"SV  estimate : %.1f\"%(np.sum(clf.n_support_)*100/(N-1)), \"%\")\n",
    "print(\"Number of support vectors:\", SVs)"
   ]
  }
 ],
 "metadata": {
  "kernelspec": {
   "display_name": "Python 3 (ipykernel)",
   "language": "python",
   "name": "python3"
  },
  "language_info": {
   "codemirror_mode": {
    "name": "ipython",
    "version": 3
   },
   "file_extension": ".py",
   "mimetype": "text/x-python",
   "name": "python",
   "nbconvert_exporter": "python",
   "pygments_lexer": "ipython3",
   "version": "3.7.13"
  }
 },
 "nbformat": 4,
 "nbformat_minor": 5
}
