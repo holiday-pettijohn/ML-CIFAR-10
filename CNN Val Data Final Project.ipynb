{
 "cells": [
  {
   "cell_type": "code",
   "execution_count": 1,
   "id": "df5a7bd0",
   "metadata": {},
   "outputs": [],
   "source": [
    "import tensorflow as tf\n",
    "import numpy as np\n",
    "import matplotlib.pyplot as plt\n",
    "from sklearn import (datasets, naive_bayes, neighbors, neural_network, model_selection)"
   ]
  },
  {
   "cell_type": "markdown",
   "id": "eb8a993a",
   "metadata": {},
   "source": [
    "### Importing correct data split of 40,000"
   ]
  },
  {
   "cell_type": "code",
   "execution_count": 3,
   "id": "1efec305",
   "metadata": {},
   "outputs": [],
   "source": [
    "filename = \"C:\\\\Users\\\\jakes\\\\S_train.txt\"\n",
    "S_in = np.loadtxt(filename, delimiter=',')\n",
    "temp = S_in\n",
    "\n",
    "filename = \"C:\\\\Users\\\\jakes\\\\S_trainY.txt\"\n",
    "S_inY = np.loadtxt(filename, delimiter=',')\n",
    "tempY = S_inY\n",
    "\n",
    "filename = \"C:\\\\Users\\\\jakes\\\\S_val.txt\"\n",
    "S_out = np.loadtxt(filename, delimiter=',')\n",
    "tempO = S_out\n",
    "\n",
    "filename = \"C:\\\\Users\\\\jakes\\\\S_valY.txt\"\n",
    "S_outY = np.loadtxt(filename, delimiter=',')\n",
    "tempOY = S_outY"
   ]
  },
  {
   "cell_type": "code",
   "execution_count": 4,
   "id": "e346518e",
   "metadata": {},
   "outputs": [],
   "source": [
    "[N,dim]=np.shape(S_in)\n",
    "\n",
    "S_in = temp\n",
    "S_inY = tempY\n",
    "\n",
    "S_out = tempO\n",
    "S_outY = tempOY\n",
    "\n",
    "for i in range(dim):\n",
    "    mean = np.mean(S_in[:,i])\n",
    "    S_in[:,i] = S_in[:,i] - mean\n",
    "    \n",
    "    std = np.std(S_in[:,i])\n",
    "    S_in[:,i] = S_in[:,i] / std\n",
    "\n",
    "    S_out[:,i] = S_out[:,i] - mean\n",
    "    S_out[:,i] = S_out[:,i] / std\n",
    "    \n",
    "    \n",
    "#Reshaping data\n",
    "\n",
    "S_inR = S_in\n",
    "S_outR = S_out\n",
    "\n",
    "S_inR = np.reshape(S_in, (len(S_in), 32,32,3))\n",
    "S_outR = np.reshape(S_out, (len(S_out), 32,32,3))"
   ]
  },
  {
   "cell_type": "markdown",
   "id": "07c2f909",
   "metadata": {},
   "source": [
    "### Finalized CNN"
   ]
  },
  {
   "cell_type": "code",
   "execution_count": 5,
   "id": "bc0f4509",
   "metadata": {},
   "outputs": [
    {
     "name": "stdout",
     "output_type": "stream",
     "text": [
      "Epoch 1/20\n",
      "1250/1250 [==============================] - 43s 31ms/step - loss: 1.4592 - accuracy: 0.4710 - val_loss: 1.1639 - val_accuracy: 0.5902\n",
      "Epoch 2/20\n",
      "1250/1250 [==============================] - 37s 30ms/step - loss: 1.0509 - accuracy: 0.6328 - val_loss: 0.9922 - val_accuracy: 0.6504\n",
      "Epoch 3/20\n",
      "1250/1250 [==============================] - 37s 30ms/step - loss: 0.8804 - accuracy: 0.6933 - val_loss: 0.8903 - val_accuracy: 0.6911\n",
      "Epoch 4/20\n",
      "1250/1250 [==============================] - 36s 29ms/step - loss: 0.7711 - accuracy: 0.7300 - val_loss: 0.8616 - val_accuracy: 0.7037\n",
      "Epoch 5/20\n",
      "1250/1250 [==============================] - 36s 29ms/step - loss: 0.6778 - accuracy: 0.7653 - val_loss: 0.8251 - val_accuracy: 0.7134\n",
      "Epoch 6/20\n",
      "1250/1250 [==============================] - 36s 29ms/step - loss: 0.6008 - accuracy: 0.7904 - val_loss: 0.8552 - val_accuracy: 0.7140\n",
      "Epoch 7/20\n",
      "1250/1250 [==============================] - 37s 29ms/step - loss: 0.5321 - accuracy: 0.8147 - val_loss: 0.8576 - val_accuracy: 0.7197\n",
      "Epoch 8/20\n",
      "1250/1250 [==============================] - 33s 26ms/step - loss: 0.4762 - accuracy: 0.8328 - val_loss: 0.9065 - val_accuracy: 0.7122\n",
      "Epoch 9/20\n",
      "1250/1250 [==============================] - 35s 28ms/step - loss: 0.4238 - accuracy: 0.8500 - val_loss: 0.9269 - val_accuracy: 0.7216\n",
      "Epoch 10/20\n",
      "1250/1250 [==============================] - 32s 26ms/step - loss: 0.3771 - accuracy: 0.8680 - val_loss: 0.9531 - val_accuracy: 0.7222\n",
      "Epoch 11/20\n",
      "1250/1250 [==============================] - 32s 26ms/step - loss: 0.3313 - accuracy: 0.8839 - val_loss: 1.0052 - val_accuracy: 0.7219\n",
      "Epoch 12/20\n",
      "1250/1250 [==============================] - 32s 26ms/step - loss: 0.3024 - accuracy: 0.8925 - val_loss: 1.0577 - val_accuracy: 0.7124\n",
      "Epoch 13/20\n",
      "1250/1250 [==============================] - 32s 26ms/step - loss: 0.2649 - accuracy: 0.9061 - val_loss: 1.1561 - val_accuracy: 0.7114\n",
      "Epoch 14/20\n",
      "1250/1250 [==============================] - 32s 26ms/step - loss: 0.2453 - accuracy: 0.9134 - val_loss: 1.2658 - val_accuracy: 0.7144\n",
      "Epoch 15/20\n",
      "1250/1250 [==============================] - 32s 26ms/step - loss: 0.2281 - accuracy: 0.9205 - val_loss: 1.2528 - val_accuracy: 0.7250\n",
      "Epoch 16/20\n",
      "1250/1250 [==============================] - 32s 26ms/step - loss: 0.2107 - accuracy: 0.9243 - val_loss: 1.2862 - val_accuracy: 0.7133\n",
      "Epoch 17/20\n",
      "1250/1250 [==============================] - 32s 26ms/step - loss: 0.1916 - accuracy: 0.9339 - val_loss: 1.3597 - val_accuracy: 0.7151\n",
      "Epoch 18/20\n",
      "1250/1250 [==============================] - 32s 25ms/step - loss: 0.1741 - accuracy: 0.9380 - val_loss: 1.3922 - val_accuracy: 0.7206\n",
      "Epoch 19/20\n",
      "1250/1250 [==============================] - 32s 26ms/step - loss: 0.1678 - accuracy: 0.9420 - val_loss: 1.4435 - val_accuracy: 0.7129\n",
      "Epoch 20/20\n",
      "1250/1250 [==============================] - 32s 26ms/step - loss: 0.1682 - accuracy: 0.9421 - val_loss: 1.4971 - val_accuracy: 0.7112\n"
     ]
    }
   ],
   "source": [
    "model2 = tf.keras.Sequential([\n",
    "    tf.keras.layers.Conv2D(32, (3, 3), activation='relu', input_shape=(32, 32, 3), kernel_regularizer=tf.keras.regularizers.L1(l1=1e-7)),\n",
    "    tf.keras.layers.MaxPooling2D((2, 2)),\n",
    "    tf.keras.layers.Conv2D(64, (3, 3), activation='relu', kernel_regularizer=tf.keras.regularizers.L1(l1=1e-7)),\n",
    "    tf.keras.layers.MaxPooling2D((2, 2)),\n",
    "    tf.keras.layers.Conv2D(128, (3, 3), activation='relu', kernel_regularizer=tf.keras.regularizers.L1(l1=1e-7)),\n",
    "    tf.keras.layers.MaxPooling2D(2, 2),\n",
    "    tf.keras.layers.Flatten(),\n",
    "    tf.keras.layers.Dense(128, activation='relu', kernel_regularizer=tf.keras.regularizers.L1(l1=1e-7)),\n",
    "    tf.keras.layers.Dense(64, activation='relu', kernel_regularizer=tf.keras.regularizers.L1(l1=1e-7)),\n",
    "    tf.keras.layers.Dense(10),\n",
    "])\n",
    "\n",
    "model2.compile(optimizer='adam',\n",
    "              loss=tf.keras.losses.SparseCategoricalCrossentropy(from_logits=True),\n",
    "              metrics=['accuracy'])\n",
    "\n",
    "history = model2.fit(S_inR, S_inY, epochs=20,\n",
    "                   validation_data=(S_outR, S_outY))"
   ]
  },
  {
   "cell_type": "code",
   "execution_count": 11,
   "id": "4ae0121d",
   "metadata": {},
   "outputs": [],
   "source": [
    "model2acc = history.history['accuracy']\n",
    "model2valAcc = history.history['val_accuracy']\n",
    "model2valLoss = history.history['val_loss']"
   ]
  },
  {
   "cell_type": "code",
   "execution_count": 7,
   "id": "cac7d0a3",
   "metadata": {},
   "outputs": [
    {
     "name": "stdout",
     "output_type": "stream",
     "text": [
      "313/313 [==============================] - 8s 10ms/step\n",
      "tf.Tensor(1.9353856, shape=(), dtype=float32)\n"
     ]
    }
   ],
   "source": [
    "m2pred = model2.predict(S_outR)\n",
    "\n",
    "err = tf.keras.losses.SparseCategoricalCrossentropy()\n",
    "\n",
    "m2Eout = err(S_outY, m2pred)\n",
    "\n",
    "print(m2Eout)"
   ]
  },
  {
   "cell_type": "code",
   "execution_count": 12,
   "id": "70e02003",
   "metadata": {},
   "outputs": [
    {
     "name": "stdout",
     "output_type": "stream",
     "text": [
      "0.7112\n"
     ]
    }
   ],
   "source": [
    "m2Acc = (S_outY==m2pred.argmax(axis=1)).sum()/S_outY.shape[0]\n",
    "print(m2Acc)"
   ]
  },
  {
   "cell_type": "code",
   "execution_count": 14,
   "id": "78d09cfc",
   "metadata": {},
   "outputs": [
    {
     "data": {
      "text/plain": [
       "0.7048349946737289"
      ]
     },
     "execution_count": 14,
     "metadata": {},
     "output_type": "execute_result"
    }
   ],
   "source": [
    "np.mean(model2valAcc)"
   ]
  }
 ],
 "metadata": {
  "kernelspec": {
   "display_name": "Python 3 (ipykernel)",
   "language": "python",
   "name": "python3"
  },
  "language_info": {
   "codemirror_mode": {
    "name": "ipython",
    "version": 3
   },
   "file_extension": ".py",
   "mimetype": "text/x-python",
   "name": "python",
   "nbconvert_exporter": "python",
   "pygments_lexer": "ipython3",
   "version": "3.7.13"
  }
 },
 "nbformat": 4,
 "nbformat_minor": 5
}
