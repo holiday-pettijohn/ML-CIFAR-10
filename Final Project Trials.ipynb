{
 "cells": [
  {
   "cell_type": "code",
   "execution_count": 23,
   "id": "bccb8327",
   "metadata": {},
   "outputs": [],
   "source": [
    "import tensorflow as tf\n",
    "import numpy as np\n",
    "import matplotlib.pyplot as plt\n",
    "from sklearn import (datasets, naive_bayes, neighbors, neural_network, model_selection, svm)"
   ]
  },
  {
   "cell_type": "markdown",
   "id": "9afd0653",
   "metadata": {},
   "source": [
    "### Loading Data"
   ]
  },
  {
   "cell_type": "code",
   "execution_count": 2,
   "id": "c90d8518",
   "metadata": {},
   "outputs": [],
   "source": [
    "filename = \"C:\\\\Users\\\\jakes\\\\S_train.txt\"\n",
    "S_in = np.loadtxt(filename, delimiter=',')\n",
    "temp = S_in\n",
    "\n",
    "filename = \"C:\\\\Users\\\\jakes\\\\S_trainY.txt\"\n",
    "S_inY = np.loadtxt(filename, delimiter=',')\n",
    "tempY = S_inY\n",
    "\n",
    "filename = \"C:\\\\Users\\\\jakes\\\\S_val.txt\"\n",
    "S_val = np.loadtxt(filename, delimiter=',')\n",
    "tempV = S_val\n",
    "\n",
    "filename = \"C:\\\\Users\\\\jakes\\\\S_valY.txt\"\n",
    "S_valY = np.loadtxt(filename, delimiter=',')\n",
    "tempVY = S_valY"
   ]
  },
  {
   "cell_type": "markdown",
   "id": "7d6d8044",
   "metadata": {},
   "source": [
    "### Normalizing"
   ]
  },
  {
   "cell_type": "code",
   "execution_count": 3,
   "id": "f46949fe",
   "metadata": {},
   "outputs": [],
   "source": [
    "[N,dim]=np.shape(S_in)\n",
    "\n",
    "S_in = temp\n",
    "S_inY = tempY\n",
    "\n",
    "S_val = tempV\n",
    "S_valY = tempVY\n",
    "\n",
    "for i in range(dim):\n",
    "    mean = np.mean(S_in[:,i])\n",
    "    S_in[:,i] = S_in[:,i] - mean\n",
    "    \n",
    "    std = np.std(S_in[:,i])\n",
    "    S_in[:,i] = S_in[:,i] / std\n",
    "\n",
    "    S_val[:,i] = S_val[:,i] - mean\n",
    "    S_val[:,i] = S_val[:,i] / std\n",
    "    \n",
    "    \n",
    "#Reshaping data\n",
    "\n",
    "S_trainR = S_in\n",
    "S_valR = S_val\n",
    "\n",
    "S_trainR = np.reshape(S_in, (len(S_in), 32,32,3))\n",
    "S_valR = np.reshape(S_val, (len(S_val), 32,32,3))"
   ]
  },
  {
   "cell_type": "markdown",
   "id": "6e9c91b4",
   "metadata": {},
   "source": [
    "### Original 1e-10 Model"
   ]
  },
  {
   "cell_type": "code",
   "execution_count": 15,
   "id": "5f99f8f8",
   "metadata": {},
   "outputs": [
    {
     "name": "stdout",
     "output_type": "stream",
     "text": [
      "Epoch 1/20\n",
      "1250/1250 [==============================] - 18s 13ms/step - loss: 1.4880 - accuracy: 0.4596 - val_loss: 1.2075 - val_accuracy: 0.5766\n",
      "Epoch 2/20\n",
      "1250/1250 [==============================] - 15s 12ms/step - loss: 1.0711 - accuracy: 0.6221 - val_loss: 1.0194 - val_accuracy: 0.6392\n",
      "Epoch 3/20\n",
      "1250/1250 [==============================] - 16s 13ms/step - loss: 0.8791 - accuracy: 0.6938 - val_loss: 0.8950 - val_accuracy: 0.6874\n",
      "Epoch 4/20\n",
      "1250/1250 [==============================] - 18s 15ms/step - loss: 0.7644 - accuracy: 0.7329 - val_loss: 0.8928 - val_accuracy: 0.6965\n",
      "Epoch 5/20\n",
      "1250/1250 [==============================] - 17s 14ms/step - loss: 0.6639 - accuracy: 0.7650 - val_loss: 0.8663 - val_accuracy: 0.7033\n",
      "Epoch 6/20\n",
      "1250/1250 [==============================] - 16s 13ms/step - loss: 0.5880 - accuracy: 0.7950 - val_loss: 0.8565 - val_accuracy: 0.7173\n",
      "Epoch 7/20\n",
      "1250/1250 [==============================] - 16s 13ms/step - loss: 0.5246 - accuracy: 0.8156 - val_loss: 0.9119 - val_accuracy: 0.7108\n",
      "Epoch 8/20\n",
      "1250/1250 [==============================] - 16s 13ms/step - loss: 0.4563 - accuracy: 0.8400 - val_loss: 0.9323 - val_accuracy: 0.7122\n",
      "Epoch 9/20\n",
      "1250/1250 [==============================] - 16s 13ms/step - loss: 0.4068 - accuracy: 0.8566 - val_loss: 0.9433 - val_accuracy: 0.7184\n",
      "Epoch 10/20\n",
      "1250/1250 [==============================] - 16s 13ms/step - loss: 0.3604 - accuracy: 0.8726 - val_loss: 1.0223 - val_accuracy: 0.7183\n",
      "Epoch 11/20\n",
      "1250/1250 [==============================] - 16s 13ms/step - loss: 0.3213 - accuracy: 0.8856 - val_loss: 1.0344 - val_accuracy: 0.7079\n",
      "Epoch 12/20\n",
      "1250/1250 [==============================] - 16s 13ms/step - loss: 0.2828 - accuracy: 0.9007 - val_loss: 1.1358 - val_accuracy: 0.7201\n",
      "Epoch 13/20\n",
      "1250/1250 [==============================] - 16s 13ms/step - loss: 0.2614 - accuracy: 0.9081 - val_loss: 1.1440 - val_accuracy: 0.7138\n",
      "Epoch 14/20\n",
      "1250/1250 [==============================] - 16s 13ms/step - loss: 0.2338 - accuracy: 0.9171 - val_loss: 1.2083 - val_accuracy: 0.7199\n",
      "Epoch 15/20\n",
      "1250/1250 [==============================] - 16s 13ms/step - loss: 0.2178 - accuracy: 0.9234 - val_loss: 1.2893 - val_accuracy: 0.7087\n",
      "Epoch 16/20\n",
      "1250/1250 [==============================] - 16s 13ms/step - loss: 0.1983 - accuracy: 0.9311 - val_loss: 1.3906 - val_accuracy: 0.7143\n",
      "Epoch 17/20\n",
      "1250/1250 [==============================] - 16s 13ms/step - loss: 0.1898 - accuracy: 0.9329 - val_loss: 1.4960 - val_accuracy: 0.7116\n",
      "Epoch 18/20\n",
      "1250/1250 [==============================] - 16s 13ms/step - loss: 0.1786 - accuracy: 0.9381 - val_loss: 1.4391 - val_accuracy: 0.7146\n",
      "Epoch 19/20\n",
      "1250/1250 [==============================] - 17s 13ms/step - loss: 0.1619 - accuracy: 0.9439 - val_loss: 1.5041 - val_accuracy: 0.7101\n",
      "Epoch 20/20\n",
      "1250/1250 [==============================] - 17s 13ms/step - loss: 0.1543 - accuracy: 0.9457 - val_loss: 1.6258 - val_accuracy: 0.7129\n"
     ]
    }
   ],
   "source": [
    "model1 = tf.keras.Sequential([\n",
    "    tf.keras.layers.Conv2D(32, (3, 3), activation='relu', input_shape=(32, 32, 3), kernel_regularizer=tf.keras.regularizers.L1(l1=1e-10)),\n",
    "    tf.keras.layers.MaxPooling2D((2, 2)),\n",
    "    tf.keras.layers.Conv2D(64, (3, 3), activation='relu', kernel_regularizer=tf.keras.regularizers.L1(l1=1e-10)),\n",
    "    tf.keras.layers.MaxPooling2D((2, 2)),\n",
    "    tf.keras.layers.Conv2D(128, (3, 3), activation='relu', kernel_regularizer=tf.keras.regularizers.L1(l1=1e-10)),\n",
    "    tf.keras.layers.MaxPooling2D(2, 2),\n",
    "    tf.keras.layers.Flatten(),\n",
    "    tf.keras.layers.Dense(128, activation='relu', kernel_regularizer=tf.keras.regularizers.L1(l1=1e-10)),\n",
    "    tf.keras.layers.Dense(64, activation='relu', kernel_regularizer=tf.keras.regularizers.L1(l1=1e-10)),\n",
    "    tf.keras.layers.Dense(10),\n",
    "])\n",
    "\n",
    "model1.compile(optimizer='adam',\n",
    "              loss=tf.keras.losses.SparseCategoricalCrossentropy(from_logits=True),\n",
    "              metrics=['accuracy'])\n",
    "\n",
    "history = model1.fit(S_trainR, S_inY, epochs=20,\n",
    "                   validation_data=(S_valR, S_valY))\n",
    "\n",
    "model1acc = history.history['accuracy']\n",
    "model1valAcc = history.history['val_accuracy']\n",
    "model1valLoss = history.history['val_loss']\n",
    "\n",
    "#model1i.save('CNN_Model')"
   ]
  },
  {
   "cell_type": "markdown",
   "id": "98c96502",
   "metadata": {},
   "source": [
    "### 1e-10 Model, Increasing number on Conv2d and Adding Dense Layer"
   ]
  },
  {
   "cell_type": "code",
   "execution_count": 21,
   "id": "acdfdcab",
   "metadata": {},
   "outputs": [
    {
     "name": "stdout",
     "output_type": "stream",
     "text": [
      "Epoch 1/20\n",
      "1250/1250 [==============================] - 35s 27ms/step - loss: 1.4841 - accuracy: 0.4565 - val_loss: 1.1545 - val_accuracy: 0.5868\n",
      "Epoch 2/20\n",
      "1250/1250 [==============================] - 38s 30ms/step - loss: 1.0540 - accuracy: 0.6303 - val_loss: 1.0042 - val_accuracy: 0.6470\n",
      "Epoch 3/20\n",
      "1250/1250 [==============================] - 37s 30ms/step - loss: 0.8653 - accuracy: 0.7000 - val_loss: 0.8913 - val_accuracy: 0.6868\n",
      "Epoch 4/20\n",
      "1250/1250 [==============================] - 37s 30ms/step - loss: 0.7401 - accuracy: 0.7410 - val_loss: 0.8276 - val_accuracy: 0.7197\n",
      "Epoch 5/20\n",
      "1250/1250 [==============================] - 39s 31ms/step - loss: 0.6441 - accuracy: 0.7756 - val_loss: 0.8537 - val_accuracy: 0.7158\n",
      "Epoch 6/20\n",
      "1250/1250 [==============================] - 38s 30ms/step - loss: 0.5658 - accuracy: 0.8029 - val_loss: 0.8973 - val_accuracy: 0.7083\n",
      "Epoch 7/20\n",
      "1250/1250 [==============================] - 39s 32ms/step - loss: 0.4979 - accuracy: 0.8281 - val_loss: 0.8582 - val_accuracy: 0.7229\n",
      "Epoch 8/20\n",
      "1250/1250 [==============================] - 39s 31ms/step - loss: 0.4350 - accuracy: 0.8475 - val_loss: 0.9098 - val_accuracy: 0.7210\n",
      "Epoch 9/20\n",
      "1250/1250 [==============================] - 38s 31ms/step - loss: 0.3865 - accuracy: 0.8650 - val_loss: 0.9403 - val_accuracy: 0.7273\n",
      "Epoch 10/20\n",
      "1250/1250 [==============================] - 38s 31ms/step - loss: 0.3382 - accuracy: 0.8824 - val_loss: 0.9906 - val_accuracy: 0.7307\n",
      "Epoch 11/20\n",
      "1250/1250 [==============================] - 38s 31ms/step - loss: 0.3074 - accuracy: 0.8930 - val_loss: 1.0789 - val_accuracy: 0.7186\n",
      "Epoch 12/20\n",
      "1250/1250 [==============================] - 38s 30ms/step - loss: 0.2743 - accuracy: 0.9045 - val_loss: 1.0293 - val_accuracy: 0.7313\n",
      "Epoch 13/20\n",
      "1250/1250 [==============================] - 39s 31ms/step - loss: 0.2495 - accuracy: 0.9133 - val_loss: 1.1387 - val_accuracy: 0.7118\n",
      "Epoch 14/20\n",
      "1250/1250 [==============================] - 38s 30ms/step - loss: 0.2168 - accuracy: 0.9247 - val_loss: 1.1813 - val_accuracy: 0.7230\n",
      "Epoch 15/20\n",
      "1250/1250 [==============================] - 38s 31ms/step - loss: 0.2026 - accuracy: 0.9299 - val_loss: 1.3125 - val_accuracy: 0.7153\n",
      "Epoch 16/20\n",
      "1250/1250 [==============================] - 39s 31ms/step - loss: 0.1896 - accuracy: 0.9348 - val_loss: 1.2782 - val_accuracy: 0.7178\n",
      "Epoch 17/20\n",
      "1250/1250 [==============================] - 38s 30ms/step - loss: 0.1767 - accuracy: 0.9395 - val_loss: 1.2983 - val_accuracy: 0.7206\n",
      "Epoch 18/20\n",
      "1250/1250 [==============================] - 39s 31ms/step - loss: 0.1647 - accuracy: 0.9443 - val_loss: 1.4008 - val_accuracy: 0.7148\n",
      "Epoch 19/20\n",
      "1250/1250 [==============================] - 39s 31ms/step - loss: 0.1521 - accuracy: 0.9486 - val_loss: 1.4096 - val_accuracy: 0.7191\n",
      "Epoch 20/20\n",
      "1250/1250 [==============================] - 39s 31ms/step - loss: 0.1405 - accuracy: 0.9535 - val_loss: 1.4809 - val_accuracy: 0.7107\n"
     ]
    }
   ],
   "source": [
    "model1a = tf.keras.Sequential([\n",
    "    tf.keras.layers.Conv2D(64, (3, 3), activation='relu', input_shape=(32, 32, 3), kernel_regularizer=tf.keras.regularizers.L1(l1=1e-10)),\n",
    "    tf.keras.layers.MaxPooling2D((2, 2)),\n",
    "    tf.keras.layers.Conv2D(128, (3, 3), activation='relu', kernel_regularizer=tf.keras.regularizers.L1(l1=1e-10)),\n",
    "    tf.keras.layers.MaxPooling2D((2, 2)),\n",
    "    tf.keras.layers.Conv2D(192, (3, 3), activation='relu', kernel_regularizer=tf.keras.regularizers.L1(l1=1e-10)),\n",
    "    tf.keras.layers.MaxPooling2D(2, 2),\n",
    "    tf.keras.layers.Flatten(),\n",
    "    tf.keras.layers.Dense(128, activation='relu', kernel_regularizer=tf.keras.regularizers.L1(l1=1e-10)),\n",
    "    tf.keras.layers.Dense(64, activation='relu', kernel_regularizer=tf.keras.regularizers.L1(l1=1e-10)),\n",
    "    tf.keras.layers.Dense(32, activation='relu', kernel_regularizer=tf.keras.regularizers.L1(l1=1e-10)),\n",
    "    tf.keras.layers.Dense(10),\n",
    "])\n",
    "\n",
    "model1a.compile(optimizer='adam',\n",
    "              loss=tf.keras.losses.SparseCategoricalCrossentropy(from_logits=True),\n",
    "              metrics=['accuracy'])\n",
    "\n",
    "history = model1a.fit(S_trainR, S_inY, epochs=20,\n",
    "                   validation_data=(S_valR, S_valY))\n",
    "\n",
    "model1aacc = history.history['accuracy']\n",
    "model1avalAcc = history.history['val_accuracy']\n",
    "model1avalLoss = history.history['val_loss']\n",
    "\n",
    "\n",
    "#model1i.save('CNN_Model')"
   ]
  },
  {
   "cell_type": "code",
   "execution_count": null,
   "id": "35fb685f",
   "metadata": {},
   "outputs": [],
   "source": []
  },
  {
   "cell_type": "markdown",
   "id": "9a214099",
   "metadata": {},
   "source": [
    "### Graphing Val Accuracy"
   ]
  },
  {
   "cell_type": "code",
   "execution_count": null,
   "id": "7f16394d",
   "metadata": {},
   "outputs": [],
   "source": [
    "f, ax=plt.subplots()\n",
    "ax.title.set_text(\"Lambda Val Accuracy with Model 1\")\n",
    "ax.plot(model1valAcc, label=\"1e-10\", color='b')\n",
    "ax.plot(model1avalAcc, label=\"1e-9\", color='r')\n",
    "ax.plot(model1bvalAcc, label=\"1e-8\", color='y')\n",
    "ax.plot(model1cvalAcc, label=\"1e-7\", color='c')\n",
    "ax.plot(model1dvalAcc, label=\"1e-6\", color='m')\n",
    "ax.set_xlabel(\"$epochs$\")\n",
    "ax.legend(fontsize=12)"
   ]
  },
  {
   "cell_type": "markdown",
   "id": "f594977a",
   "metadata": {},
   "source": [
    "# SVMs"
   ]
  },
  {
   "cell_type": "markdown",
   "id": "09f65081",
   "metadata": {},
   "source": [
    "### Original model for comparison (gamma = scale)"
   ]
  },
  {
   "cell_type": "code",
   "execution_count": 24,
   "id": "a398cc42",
   "metadata": {},
   "outputs": [
    {
     "name": "stdout",
     "output_type": "stream",
     "text": [
      "Eout         : 90.4 %\n",
      "SV  estimate : 100.0 %\n",
      "Number of support vectors: 40000\n"
     ]
    }
   ],
   "source": [
    "clf=svm.SVC(kernel='rbf', C=10e-13)\n",
    "clf.fit(S_in, S_inY)\n",
    "gtest=clf.predict(S_val)\n",
    "sv=clf.support_vectors_\n",
    "\n",
    "tt=np.linspace(-2,2)\n",
    "\n",
    "q=3\n",
    "Ytt=3.7*(tt+2)**q/(1+(tt+2)**q)-2\n",
    "\n",
    "[SVs, _] = sv.shape;\n",
    "Eout=np.mean(S_valY!=gtest)\n",
    "print(\"Eout         : %.1f\"% (Eout*100), \"%\")\n",
    "print(\"SV  estimate : %.1f\"%(np.sum(clf.n_support_)*100/(N-1)), \"%\")\n",
    "print(\"Number of support vectors:\", SVs)"
   ]
  },
  {
   "cell_type": "markdown",
   "id": "689cce89",
   "metadata": {},
   "source": [
    "### Same as original but with auto gamma"
   ]
  },
  {
   "cell_type": "code",
   "execution_count": 25,
   "id": "22c723ca",
   "metadata": {},
   "outputs": [
    {
     "name": "stdout",
     "output_type": "stream",
     "text": [
      "Eout         : 90.4 %\n",
      "SV  estimate : 100.0 %\n",
      "Number of support vectors: 40000\n"
     ]
    }
   ],
   "source": [
    "clf=svm.SVC(kernel='rbf', C=10e-13, gamma = 'auto')\n",
    "clf.fit(S_in, S_inY)\n",
    "gtest=clf.predict(S_val)\n",
    "sv=clf.support_vectors_\n",
    "\n",
    "tt=np.linspace(-2,2)\n",
    "\n",
    "q=3\n",
    "Ytt=3.7*(tt+2)**q/(1+(tt+2)**q)-2\n",
    "\n",
    "[SVs, _] = sv.shape;\n",
    "Eout=np.mean(S_valY!=gtest)\n",
    "print(\"Eout         : %.1f\"% (Eout*100), \"%\")\n",
    "print(\"SV  estimate : %.1f\"%(np.sum(clf.n_support_)*100/(N-1)), \"%\")\n",
    "print(\"Number of support vectors:\", SVs)"
   ]
  },
  {
   "cell_type": "markdown",
   "id": "21894a1d",
   "metadata": {},
   "source": [
    "### Same as original but with gamma = 1"
   ]
  },
  {
   "cell_type": "code",
   "execution_count": 26,
   "id": "5bc6b88d",
   "metadata": {},
   "outputs": [
    {
     "name": "stdout",
     "output_type": "stream",
     "text": [
      "Eout         : 90.4 %\n",
      "SV  estimate : 100.0 %\n",
      "Number of support vectors: 39994\n"
     ]
    }
   ],
   "source": [
    "clf=svm.SVC(kernel='rbf', C=10e-13, gamma = 1)\n",
    "clf.fit(S_in, S_inY)\n",
    "gtest=clf.predict(S_val)\n",
    "sv=clf.support_vectors_\n",
    "\n",
    "tt=np.linspace(-2,2)\n",
    "\n",
    "q=3\n",
    "Ytt=3.7*(tt+2)**q/(1+(tt+2)**q)-2\n",
    "\n",
    "[SVs, _] = sv.shape;\n",
    "Eout=np.mean(S_valY!=gtest)\n",
    "print(\"Eout         : %.1f\"% (Eout*100), \"%\")\n",
    "print(\"SV  estimate : %.1f\"%(np.sum(clf.n_support_)*100/(N-1)), \"%\")\n",
    "print(\"Number of support vectors:\", SVs)"
   ]
  },
  {
   "cell_type": "code",
   "execution_count": 27,
   "id": "f5f93495",
   "metadata": {},
   "outputs": [
    {
     "name": "stdout",
     "output_type": "stream",
     "text": [
      "Eout         : 90.4 %\n",
      "SV  estimate : 100.0 %\n",
      "Number of support vectors: 40000\n"
     ]
    }
   ],
   "source": [
    "clf=svm.SVC(kernel='rbf', C=10e-9, gamma = 'auto')\n",
    "clf.fit(S_in, S_inY)\n",
    "gtest=clf.predict(S_val)\n",
    "sv=clf.support_vectors_\n",
    "\n",
    "tt=np.linspace(-2,2)\n",
    "\n",
    "q=3\n",
    "Ytt=3.7*(tt+2)**q/(1+(tt+2)**q)-2\n",
    "\n",
    "[SVs, _] = sv.shape;\n",
    "Eout=np.mean(S_valY!=gtest)\n",
    "print(\"Eout         : %.1f\"% (Eout*100), \"%\")\n",
    "print(\"SV  estimate : %.1f\"%(np.sum(clf.n_support_)*100/(N-1)), \"%\")\n",
    "print(\"Number of support vectors:\", SVs)"
   ]
  },
  {
   "cell_type": "code",
   "execution_count": 29,
   "id": "0fa61578",
   "metadata": {},
   "outputs": [
    {
     "name": "stdout",
     "output_type": "stream",
     "text": [
      "Eout         : 90.4 %\n",
      "SV  estimate : 100.0 %\n",
      "Number of support vectors: 39994\n"
     ]
    }
   ],
   "source": [
    "clf=svm.SVC(kernel='rbf', C=10e-9, gamma = 5)\n",
    "clf.fit(S_in, S_inY)\n",
    "gtest=clf.predict(S_val)\n",
    "sv=clf.support_vectors_\n",
    "\n",
    "tt=np.linspace(-2,2)\n",
    "\n",
    "q=3\n",
    "Ytt=3.7*(tt+2)**q/(1+(tt+2)**q)-2\n",
    "\n",
    "[SVs, _] = sv.shape;\n",
    "Eout=np.mean(S_valY!=gtest)\n",
    "print(\"Eout         : %.1f\"% (Eout*100), \"%\")\n",
    "print(\"SV  estimate : %.1f\"%(np.sum(clf.n_support_)*100/(N-1)), \"%\")\n",
    "print(\"Number of support vectors:\", SVs)"
   ]
  },
  {
   "cell_type": "code",
   "execution_count": 30,
   "id": "31fac212",
   "metadata": {},
   "outputs": [
    {
     "name": "stdout",
     "output_type": "stream",
     "text": [
      "Eout         : 90.4 %\n",
      "SV  estimate : 100.0 %\n",
      "Number of support vectors: 39994\n"
     ]
    }
   ],
   "source": [
    "clf=svm.SVC(kernel='rbf', C=10e-9, gamma = 7.5)\n",
    "clf.fit(S_in, S_inY)\n",
    "gtest=clf.predict(S_val)\n",
    "sv=clf.support_vectors_\n",
    "\n",
    "tt=np.linspace(-2,2)\n",
    "\n",
    "q=3\n",
    "Ytt=3.7*(tt+2)**q/(1+(tt+2)**q)-2\n",
    "\n",
    "[SVs, _] = sv.shape;\n",
    "Eout=np.mean(S_valY!=gtest)\n",
    "print(\"Eout         : %.1f\"% (Eout*100), \"%\")\n",
    "print(\"SV  estimate : %.1f\"%(np.sum(clf.n_support_)*100/(N-1)), \"%\")\n",
    "print(\"Number of support vectors:\", SVs)"
   ]
  },
  {
   "cell_type": "code",
   "execution_count": 31,
   "id": "cdd4fcbb",
   "metadata": {},
   "outputs": [
    {
     "name": "stdout",
     "output_type": "stream",
     "text": [
      "Eout         : 45.7 %\n",
      "SV  estimate : 89.9 %\n",
      "Number of support vectors: 35957\n"
     ]
    }
   ],
   "source": [
    "clf=svm.SVC(kernel='rbf', C=1, gamma = 'auto')\n",
    "clf.fit(S_in, S_inY)\n",
    "gtest=clf.predict(S_val)\n",
    "sv=clf.support_vectors_\n",
    "\n",
    "tt=np.linspace(-2,2)\n",
    "\n",
    "q=3\n",
    "Ytt=3.7*(tt+2)**q/(1+(tt+2)**q)-2\n",
    "\n",
    "[SVs, _] = sv.shape;\n",
    "Eout=np.mean(S_valY!=gtest)\n",
    "print(\"Eout         : %.1f\"% (Eout*100), \"%\")\n",
    "print(\"SV  estimate : %.1f\"%(np.sum(clf.n_support_)*100/(N-1)), \"%\")\n",
    "print(\"Number of support vectors:\", SVs)"
   ]
  },
  {
   "cell_type": "code",
   "execution_count": null,
   "id": "d35b99e8",
   "metadata": {},
   "outputs": [],
   "source": []
  }
 ],
 "metadata": {
  "kernelspec": {
   "display_name": "Python 3 (ipykernel)",
   "language": "python",
   "name": "python3"
  },
  "language_info": {
   "codemirror_mode": {
    "name": "ipython",
    "version": 3
   },
   "file_extension": ".py",
   "mimetype": "text/x-python",
   "name": "python",
   "nbconvert_exporter": "python",
   "pygments_lexer": "ipython3",
   "version": "3.7.13"
  }
 },
 "nbformat": 4,
 "nbformat_minor": 5
}
